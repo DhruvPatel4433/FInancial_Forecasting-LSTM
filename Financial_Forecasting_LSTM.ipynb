{
  "nbformat": 4,
  "nbformat_minor": 0,
  "metadata": {
    "colab": {
      "provenance": []
    },
    "kernelspec": {
      "name": "python3",
      "display_name": "Python 3"
    },
    "language_info": {
      "name": "python"
    }
  },
  "cells": [
    {
      "cell_type": "code",
      "execution_count": null,
      "metadata": {
        "colab": {
          "base_uri": "https://localhost:8080/"
        },
        "id": "w4ma3KvHcU_W",
        "outputId": "76177e1d-ad57-425a-ab37-65f1da844718"
      },
      "outputs": [
        {
          "output_type": "stream",
          "name": "stdout",
          "text": [
            "Requirement already satisfied: yfinance in /usr/local/lib/python3.10/dist-packages (0.2.40)\n",
            "Requirement already satisfied: pandas>=1.3.0 in /usr/local/lib/python3.10/dist-packages (from yfinance) (2.0.3)\n",
            "Requirement already satisfied: numpy>=1.16.5 in /usr/local/lib/python3.10/dist-packages (from yfinance) (1.25.2)\n",
            "Requirement already satisfied: requests>=2.31 in /usr/local/lib/python3.10/dist-packages (from yfinance) (2.31.0)\n",
            "Requirement already satisfied: multitasking>=0.0.7 in /usr/local/lib/python3.10/dist-packages (from yfinance) (0.0.11)\n",
            "Requirement already satisfied: lxml>=4.9.1 in /usr/local/lib/python3.10/dist-packages (from yfinance) (4.9.4)\n",
            "Requirement already satisfied: platformdirs>=2.0.0 in /usr/local/lib/python3.10/dist-packages (from yfinance) (4.2.2)\n",
            "Requirement already satisfied: pytz>=2022.5 in /usr/local/lib/python3.10/dist-packages (from yfinance) (2023.4)\n",
            "Requirement already satisfied: frozendict>=2.3.4 in /usr/local/lib/python3.10/dist-packages (from yfinance) (2.4.4)\n",
            "Requirement already satisfied: peewee>=3.16.2 in /usr/local/lib/python3.10/dist-packages (from yfinance) (3.17.5)\n",
            "Requirement already satisfied: beautifulsoup4>=4.11.1 in /usr/local/lib/python3.10/dist-packages (from yfinance) (4.12.3)\n",
            "Requirement already satisfied: html5lib>=1.1 in /usr/local/lib/python3.10/dist-packages (from yfinance) (1.1)\n",
            "Requirement already satisfied: soupsieve>1.2 in /usr/local/lib/python3.10/dist-packages (from beautifulsoup4>=4.11.1->yfinance) (2.5)\n",
            "Requirement already satisfied: six>=1.9 in /usr/local/lib/python3.10/dist-packages (from html5lib>=1.1->yfinance) (1.16.0)\n",
            "Requirement already satisfied: webencodings in /usr/local/lib/python3.10/dist-packages (from html5lib>=1.1->yfinance) (0.5.1)\n",
            "Requirement already satisfied: python-dateutil>=2.8.2 in /usr/local/lib/python3.10/dist-packages (from pandas>=1.3.0->yfinance) (2.8.2)\n",
            "Requirement already satisfied: tzdata>=2022.1 in /usr/local/lib/python3.10/dist-packages (from pandas>=1.3.0->yfinance) (2024.1)\n",
            "Requirement already satisfied: charset-normalizer<4,>=2 in /usr/local/lib/python3.10/dist-packages (from requests>=2.31->yfinance) (3.3.2)\n",
            "Requirement already satisfied: idna<4,>=2.5 in /usr/local/lib/python3.10/dist-packages (from requests>=2.31->yfinance) (3.7)\n",
            "Requirement already satisfied: urllib3<3,>=1.21.1 in /usr/local/lib/python3.10/dist-packages (from requests>=2.31->yfinance) (2.0.7)\n",
            "Requirement already satisfied: certifi>=2017.4.17 in /usr/local/lib/python3.10/dist-packages (from requests>=2.31->yfinance) (2024.2.2)\n"
          ]
        }
      ],
      "source": [
        "pip install yfinance"
      ]
    },
    {
      "cell_type": "code",
      "source": [
        "import pandas as pd\n",
        "import numpy as np"
      ],
      "metadata": {
        "id": "tqjSJ6DtdwAe"
      },
      "execution_count": null,
      "outputs": []
    },
    {
      "cell_type": "code",
      "source": [
        "import yfinance as yf\n",
        "\n",
        "# Define the ticker symbol\n",
        "ticker_symbol = 'AAPL'\n",
        "\n",
        "# Get the stock data\n",
        "stock_data = yf.download(ticker_symbol, start='2018-01-01', end='2022-01-01')\n",
        "\n",
        "# Display the first few rows\n",
        "df = pd.DataFrame(stock_data)\n",
        "df.head()"
      ],
      "metadata": {
        "colab": {
          "base_uri": "https://localhost:8080/",
          "height": 256
        },
        "id": "emGCIdEqdSTn",
        "outputId": "3218cf08-e75d-4564-d854-cc46383f14fd"
      },
      "execution_count": null,
      "outputs": [
        {
          "output_type": "stream",
          "name": "stderr",
          "text": [
            "\r[*********************100%%**********************]  1 of 1 completed\n"
          ]
        },
        {
          "output_type": "execute_result",
          "data": {
            "text/plain": [
              "                 Open       High        Low      Close  Adj Close     Volume\n",
              "Date                                                                        \n",
              "2018-01-02  42.540001  43.075001  42.314999  43.064999  40.615887  102223600\n",
              "2018-01-03  43.132500  43.637501  42.990002  43.057499  40.608818  118071600\n",
              "2018-01-04  43.134998  43.367500  43.020000  43.257500  40.797443   89738400\n",
              "2018-01-05  43.360001  43.842499  43.262501  43.750000  41.261940   94640000\n",
              "2018-01-08  43.587502  43.902500  43.482498  43.587502  41.108681   82271200"
            ],
            "text/html": [
              "\n",
              "  <div id=\"df-b60a94be-b3fc-4bb6-9efc-fd012ac884c6\" class=\"colab-df-container\">\n",
              "    <div>\n",
              "<style scoped>\n",
              "    .dataframe tbody tr th:only-of-type {\n",
              "        vertical-align: middle;\n",
              "    }\n",
              "\n",
              "    .dataframe tbody tr th {\n",
              "        vertical-align: top;\n",
              "    }\n",
              "\n",
              "    .dataframe thead th {\n",
              "        text-align: right;\n",
              "    }\n",
              "</style>\n",
              "<table border=\"1\" class=\"dataframe\">\n",
              "  <thead>\n",
              "    <tr style=\"text-align: right;\">\n",
              "      <th></th>\n",
              "      <th>Open</th>\n",
              "      <th>High</th>\n",
              "      <th>Low</th>\n",
              "      <th>Close</th>\n",
              "      <th>Adj Close</th>\n",
              "      <th>Volume</th>\n",
              "    </tr>\n",
              "    <tr>\n",
              "      <th>Date</th>\n",
              "      <th></th>\n",
              "      <th></th>\n",
              "      <th></th>\n",
              "      <th></th>\n",
              "      <th></th>\n",
              "      <th></th>\n",
              "    </tr>\n",
              "  </thead>\n",
              "  <tbody>\n",
              "    <tr>\n",
              "      <th>2018-01-02</th>\n",
              "      <td>42.540001</td>\n",
              "      <td>43.075001</td>\n",
              "      <td>42.314999</td>\n",
              "      <td>43.064999</td>\n",
              "      <td>40.615887</td>\n",
              "      <td>102223600</td>\n",
              "    </tr>\n",
              "    <tr>\n",
              "      <th>2018-01-03</th>\n",
              "      <td>43.132500</td>\n",
              "      <td>43.637501</td>\n",
              "      <td>42.990002</td>\n",
              "      <td>43.057499</td>\n",
              "      <td>40.608818</td>\n",
              "      <td>118071600</td>\n",
              "    </tr>\n",
              "    <tr>\n",
              "      <th>2018-01-04</th>\n",
              "      <td>43.134998</td>\n",
              "      <td>43.367500</td>\n",
              "      <td>43.020000</td>\n",
              "      <td>43.257500</td>\n",
              "      <td>40.797443</td>\n",
              "      <td>89738400</td>\n",
              "    </tr>\n",
              "    <tr>\n",
              "      <th>2018-01-05</th>\n",
              "      <td>43.360001</td>\n",
              "      <td>43.842499</td>\n",
              "      <td>43.262501</td>\n",
              "      <td>43.750000</td>\n",
              "      <td>41.261940</td>\n",
              "      <td>94640000</td>\n",
              "    </tr>\n",
              "    <tr>\n",
              "      <th>2018-01-08</th>\n",
              "      <td>43.587502</td>\n",
              "      <td>43.902500</td>\n",
              "      <td>43.482498</td>\n",
              "      <td>43.587502</td>\n",
              "      <td>41.108681</td>\n",
              "      <td>82271200</td>\n",
              "    </tr>\n",
              "  </tbody>\n",
              "</table>\n",
              "</div>\n",
              "    <div class=\"colab-df-buttons\">\n",
              "\n",
              "  <div class=\"colab-df-container\">\n",
              "    <button class=\"colab-df-convert\" onclick=\"convertToInteractive('df-b60a94be-b3fc-4bb6-9efc-fd012ac884c6')\"\n",
              "            title=\"Convert this dataframe to an interactive table.\"\n",
              "            style=\"display:none;\">\n",
              "\n",
              "  <svg xmlns=\"http://www.w3.org/2000/svg\" height=\"24px\" viewBox=\"0 -960 960 960\">\n",
              "    <path d=\"M120-120v-720h720v720H120Zm60-500h600v-160H180v160Zm220 220h160v-160H400v160Zm0 220h160v-160H400v160ZM180-400h160v-160H180v160Zm440 0h160v-160H620v160ZM180-180h160v-160H180v160Zm440 0h160v-160H620v160Z\"/>\n",
              "  </svg>\n",
              "    </button>\n",
              "\n",
              "  <style>\n",
              "    .colab-df-container {\n",
              "      display:flex;\n",
              "      gap: 12px;\n",
              "    }\n",
              "\n",
              "    .colab-df-convert {\n",
              "      background-color: #E8F0FE;\n",
              "      border: none;\n",
              "      border-radius: 50%;\n",
              "      cursor: pointer;\n",
              "      display: none;\n",
              "      fill: #1967D2;\n",
              "      height: 32px;\n",
              "      padding: 0 0 0 0;\n",
              "      width: 32px;\n",
              "    }\n",
              "\n",
              "    .colab-df-convert:hover {\n",
              "      background-color: #E2EBFA;\n",
              "      box-shadow: 0px 1px 2px rgba(60, 64, 67, 0.3), 0px 1px 3px 1px rgba(60, 64, 67, 0.15);\n",
              "      fill: #174EA6;\n",
              "    }\n",
              "\n",
              "    .colab-df-buttons div {\n",
              "      margin-bottom: 4px;\n",
              "    }\n",
              "\n",
              "    [theme=dark] .colab-df-convert {\n",
              "      background-color: #3B4455;\n",
              "      fill: #D2E3FC;\n",
              "    }\n",
              "\n",
              "    [theme=dark] .colab-df-convert:hover {\n",
              "      background-color: #434B5C;\n",
              "      box-shadow: 0px 1px 3px 1px rgba(0, 0, 0, 0.15);\n",
              "      filter: drop-shadow(0px 1px 2px rgba(0, 0, 0, 0.3));\n",
              "      fill: #FFFFFF;\n",
              "    }\n",
              "  </style>\n",
              "\n",
              "    <script>\n",
              "      const buttonEl =\n",
              "        document.querySelector('#df-b60a94be-b3fc-4bb6-9efc-fd012ac884c6 button.colab-df-convert');\n",
              "      buttonEl.style.display =\n",
              "        google.colab.kernel.accessAllowed ? 'block' : 'none';\n",
              "\n",
              "      async function convertToInteractive(key) {\n",
              "        const element = document.querySelector('#df-b60a94be-b3fc-4bb6-9efc-fd012ac884c6');\n",
              "        const dataTable =\n",
              "          await google.colab.kernel.invokeFunction('convertToInteractive',\n",
              "                                                    [key], {});\n",
              "        if (!dataTable) return;\n",
              "\n",
              "        const docLinkHtml = 'Like what you see? Visit the ' +\n",
              "          '<a target=\"_blank\" href=https://colab.research.google.com/notebooks/data_table.ipynb>data table notebook</a>'\n",
              "          + ' to learn more about interactive tables.';\n",
              "        element.innerHTML = '';\n",
              "        dataTable['output_type'] = 'display_data';\n",
              "        await google.colab.output.renderOutput(dataTable, element);\n",
              "        const docLink = document.createElement('div');\n",
              "        docLink.innerHTML = docLinkHtml;\n",
              "        element.appendChild(docLink);\n",
              "      }\n",
              "    </script>\n",
              "  </div>\n",
              "\n",
              "\n",
              "<div id=\"df-48fb1c79-c3b0-40e9-82b1-cd7d57c37e00\">\n",
              "  <button class=\"colab-df-quickchart\" onclick=\"quickchart('df-48fb1c79-c3b0-40e9-82b1-cd7d57c37e00')\"\n",
              "            title=\"Suggest charts\"\n",
              "            style=\"display:none;\">\n",
              "\n",
              "<svg xmlns=\"http://www.w3.org/2000/svg\" height=\"24px\"viewBox=\"0 0 24 24\"\n",
              "     width=\"24px\">\n",
              "    <g>\n",
              "        <path d=\"M19 3H5c-1.1 0-2 .9-2 2v14c0 1.1.9 2 2 2h14c1.1 0 2-.9 2-2V5c0-1.1-.9-2-2-2zM9 17H7v-7h2v7zm4 0h-2V7h2v10zm4 0h-2v-4h2v4z\"/>\n",
              "    </g>\n",
              "</svg>\n",
              "  </button>\n",
              "\n",
              "<style>\n",
              "  .colab-df-quickchart {\n",
              "      --bg-color: #E8F0FE;\n",
              "      --fill-color: #1967D2;\n",
              "      --hover-bg-color: #E2EBFA;\n",
              "      --hover-fill-color: #174EA6;\n",
              "      --disabled-fill-color: #AAA;\n",
              "      --disabled-bg-color: #DDD;\n",
              "  }\n",
              "\n",
              "  [theme=dark] .colab-df-quickchart {\n",
              "      --bg-color: #3B4455;\n",
              "      --fill-color: #D2E3FC;\n",
              "      --hover-bg-color: #434B5C;\n",
              "      --hover-fill-color: #FFFFFF;\n",
              "      --disabled-bg-color: #3B4455;\n",
              "      --disabled-fill-color: #666;\n",
              "  }\n",
              "\n",
              "  .colab-df-quickchart {\n",
              "    background-color: var(--bg-color);\n",
              "    border: none;\n",
              "    border-radius: 50%;\n",
              "    cursor: pointer;\n",
              "    display: none;\n",
              "    fill: var(--fill-color);\n",
              "    height: 32px;\n",
              "    padding: 0;\n",
              "    width: 32px;\n",
              "  }\n",
              "\n",
              "  .colab-df-quickchart:hover {\n",
              "    background-color: var(--hover-bg-color);\n",
              "    box-shadow: 0 1px 2px rgba(60, 64, 67, 0.3), 0 1px 3px 1px rgba(60, 64, 67, 0.15);\n",
              "    fill: var(--button-hover-fill-color);\n",
              "  }\n",
              "\n",
              "  .colab-df-quickchart-complete:disabled,\n",
              "  .colab-df-quickchart-complete:disabled:hover {\n",
              "    background-color: var(--disabled-bg-color);\n",
              "    fill: var(--disabled-fill-color);\n",
              "    box-shadow: none;\n",
              "  }\n",
              "\n",
              "  .colab-df-spinner {\n",
              "    border: 2px solid var(--fill-color);\n",
              "    border-color: transparent;\n",
              "    border-bottom-color: var(--fill-color);\n",
              "    animation:\n",
              "      spin 1s steps(1) infinite;\n",
              "  }\n",
              "\n",
              "  @keyframes spin {\n",
              "    0% {\n",
              "      border-color: transparent;\n",
              "      border-bottom-color: var(--fill-color);\n",
              "      border-left-color: var(--fill-color);\n",
              "    }\n",
              "    20% {\n",
              "      border-color: transparent;\n",
              "      border-left-color: var(--fill-color);\n",
              "      border-top-color: var(--fill-color);\n",
              "    }\n",
              "    30% {\n",
              "      border-color: transparent;\n",
              "      border-left-color: var(--fill-color);\n",
              "      border-top-color: var(--fill-color);\n",
              "      border-right-color: var(--fill-color);\n",
              "    }\n",
              "    40% {\n",
              "      border-color: transparent;\n",
              "      border-right-color: var(--fill-color);\n",
              "      border-top-color: var(--fill-color);\n",
              "    }\n",
              "    60% {\n",
              "      border-color: transparent;\n",
              "      border-right-color: var(--fill-color);\n",
              "    }\n",
              "    80% {\n",
              "      border-color: transparent;\n",
              "      border-right-color: var(--fill-color);\n",
              "      border-bottom-color: var(--fill-color);\n",
              "    }\n",
              "    90% {\n",
              "      border-color: transparent;\n",
              "      border-bottom-color: var(--fill-color);\n",
              "    }\n",
              "  }\n",
              "</style>\n",
              "\n",
              "  <script>\n",
              "    async function quickchart(key) {\n",
              "      const quickchartButtonEl =\n",
              "        document.querySelector('#' + key + ' button');\n",
              "      quickchartButtonEl.disabled = true;  // To prevent multiple clicks.\n",
              "      quickchartButtonEl.classList.add('colab-df-spinner');\n",
              "      try {\n",
              "        const charts = await google.colab.kernel.invokeFunction(\n",
              "            'suggestCharts', [key], {});\n",
              "      } catch (error) {\n",
              "        console.error('Error during call to suggestCharts:', error);\n",
              "      }\n",
              "      quickchartButtonEl.classList.remove('colab-df-spinner');\n",
              "      quickchartButtonEl.classList.add('colab-df-quickchart-complete');\n",
              "    }\n",
              "    (() => {\n",
              "      let quickchartButtonEl =\n",
              "        document.querySelector('#df-48fb1c79-c3b0-40e9-82b1-cd7d57c37e00 button');\n",
              "      quickchartButtonEl.style.display =\n",
              "        google.colab.kernel.accessAllowed ? 'block' : 'none';\n",
              "    })();\n",
              "  </script>\n",
              "</div>\n",
              "\n",
              "    </div>\n",
              "  </div>\n"
            ],
            "application/vnd.google.colaboratory.intrinsic+json": {
              "type": "dataframe",
              "variable_name": "df",
              "summary": "{\n  \"name\": \"df\",\n  \"rows\": 1008,\n  \"fields\": [\n    {\n      \"column\": \"Date\",\n      \"properties\": {\n        \"dtype\": \"date\",\n        \"min\": \"2018-01-02 00:00:00\",\n        \"max\": \"2021-12-31 00:00:00\",\n        \"num_unique_values\": 1008,\n        \"samples\": [\n          \"2021-09-23 00:00:00\",\n          \"2020-07-06 00:00:00\",\n          \"2020-09-17 00:00:00\"\n        ],\n        \"semantic_type\": \"\",\n        \"description\": \"\"\n      }\n    },\n    {\n      \"column\": \"Open\",\n      \"properties\": {\n        \"dtype\": \"number\",\n        \"std\": 40.40360108650295,\n        \"min\": 35.994998931884766,\n        \"max\": 181.1199951171875,\n        \"num_unique_values\": 975,\n        \"samples\": [\n          53.95750045776367,\n          121.6500015258789,\n          54.4474983215332\n        ],\n        \"semantic_type\": \"\",\n        \"description\": \"\"\n      }\n    },\n    {\n      \"column\": \"High\",\n      \"properties\": {\n        \"dtype\": \"number\",\n        \"std\": 40.86055690839315,\n        \"min\": 36.43000030517578,\n        \"max\": 182.1300048828125,\n        \"num_unique_values\": 973,\n        \"samples\": [\n          55.84000015258789,\n          61.92250061035156,\n          57.087501525878906\n        ],\n        \"semantic_type\": \"\",\n        \"description\": \"\"\n      }\n    },\n    {\n      \"column\": \"Low\",\n      \"properties\": {\n        \"dtype\": \"number\",\n        \"std\": 39.94200223022892,\n        \"min\": 35.5,\n        \"max\": 178.52999877929688,\n        \"num_unique_values\": 978,\n        \"samples\": [\n          53.16749954223633,\n          61.07500076293945,\n          53.82500076293945\n        ],\n        \"semantic_type\": \"\",\n        \"description\": \"\"\n      }\n    },\n    {\n      \"column\": \"Close\",\n      \"properties\": {\n        \"dtype\": \"number\",\n        \"std\": 40.42878815644765,\n        \"min\": 35.54750061035156,\n        \"max\": 180.3300018310547,\n        \"num_unique_values\": 985,\n        \"samples\": [\n          91.02749633789062,\n          64.28250122070312,\n          128.22999572753906\n        ],\n        \"semantic_type\": \"\",\n        \"description\": \"\"\n      }\n    },\n    {\n      \"column\": \"Adj Close\",\n      \"properties\": {\n        \"dtype\": \"number\",\n        \"std\": 40.276006338080926,\n        \"min\": 34.029239654541016,\n        \"max\": 177.824462890625,\n        \"num_unique_values\": 1000,\n        \"samples\": [\n          77.4544448852539,\n          119.96961212158203,\n          126.13420867919922\n        ],\n        \"semantic_type\": \"\",\n        \"description\": \"\"\n      }\n    },\n    {\n      \"column\": \"Volume\",\n      \"properties\": {\n        \"dtype\": \"number\",\n        \"std\": 58179935,\n        \"min\": 41000000,\n        \"max\": 426510000,\n        \"num_unique_values\": 1006,\n        \"samples\": [\n          140893200,\n          117092000,\n          195713800\n        ],\n        \"semantic_type\": \"\",\n        \"description\": \"\"\n      }\n    }\n  ]\n}"
            }
          },
          "metadata": {},
          "execution_count": 3
        }
      ]
    },
    {
      "cell_type": "code",
      "source": [
        "df1 = df.reset_index()['Close']"
      ],
      "metadata": {
        "id": "wMDBh83cdYjZ"
      },
      "execution_count": null,
      "outputs": []
    },
    {
      "cell_type": "code",
      "source": [
        "import matplotlib.pyplot as plt\n",
        "plt.plot(df1)"
      ],
      "metadata": {
        "colab": {
          "base_uri": "https://localhost:8080/",
          "height": 448
        },
        "collapsed": true,
        "id": "L0IlBAhdd9AB",
        "outputId": "a36b0123-1fe2-4479-e79a-2240aafb32f4"
      },
      "execution_count": null,
      "outputs": [
        {
          "output_type": "execute_result",
          "data": {
            "text/plain": [
              "[<matplotlib.lines.Line2D at 0x7d75b224a110>]"
            ]
          },
          "metadata": {},
          "execution_count": 5
        },
        {
          "output_type": "display_data",
          "data": {
            "text/plain": [
              "<Figure size 640x480 with 1 Axes>"
            ],
            "image/png": "[encoded data removed]"
          },
          "metadata": {}
        }
      ]
    },
    {
      "cell_type": "code",
      "source": [
        "from sklearn.preprocessing import MinMaxScaler\n",
        "scaler = MinMaxScaler(feature_range = (0, 1))\n",
        "df1 = scaler.fit_transform(np.array(df1).reshape(-1,1))"
      ],
      "metadata": {
        "id": "yUKY-LQyePGd"
      },
      "execution_count": null,
      "outputs": []
    },
    {
      "cell_type": "code",
      "source": [
        "from sklearn.model_selection import train_test_split\n",
        "train , test =  train_test_split(df1 , test_size = 0.35 , shuffle= False)"
      ],
      "metadata": {
        "id": "W7jrVLzKfjqS"
      },
      "execution_count": null,
      "outputs": []
    },
    {
      "cell_type": "code",
      "source": [
        "len(train) , len(test)"
      ],
      "metadata": {
        "colab": {
          "base_uri": "https://localhost:8080/"
        },
        "id": "fvNlrkn6fqVg",
        "outputId": "ca943b11-b765-4d6b-94b7-a45215463f56"
      },
      "execution_count": null,
      "outputs": [
        {
          "output_type": "execute_result",
          "data": {
            "text/plain": [
              "(655, 353)"
            ]
          },
          "metadata": {},
          "execution_count": 8
        }
      ]
    },
    {
      "cell_type": "code",
      "source": [
        "def create_dataset(dataset , time_step = 1):\n",
        "  dataX , dataY = [] , []\n",
        "  for i in range(len(dataset) - time_step - 1):\n",
        "    a = dataset[i : (i+time_step) , 0]\n",
        "    dataX.append(a)\n",
        "    dataY.append(dataset[i + time_step , 0])\n",
        "  return np.array(dataX) , np.array(dataY)"
      ],
      "metadata": {
        "id": "YSTerDVTix2L"
      },
      "execution_count": null,
      "outputs": []
    },
    {
      "cell_type": "code",
      "source": [
        "time_step = 100\n",
        "x_train , y_train = create_dataset(train , time_step)\n",
        "x_test , y_test = create_dataset(test , time_step)"
      ],
      "metadata": {
        "id": "_PIJbuObkyoj"
      },
      "execution_count": null,
      "outputs": []
    },
    {
      "cell_type": "code",
      "source": [
        "x_train.shape"
      ],
      "metadata": {
        "colab": {
          "base_uri": "https://localhost:8080/"
        },
        "id": "8UgInv0DlIIR",
        "outputId": "104bfdc8-504a-447d-ced4-77d49d641d4d"
      },
      "execution_count": null,
      "outputs": [
        {
          "output_type": "execute_result",
          "data": {
            "text/plain": [
              "(554, 100)"
            ]
          },
          "metadata": {},
          "execution_count": 11
        }
      ]
    },
    {
      "cell_type": "code",
      "source": [
        "x_test.shape"
      ],
      "metadata": {
        "colab": {
          "base_uri": "https://localhost:8080/"
        },
        "id": "Ej2ekQKIlL57",
        "outputId": "48fce58e-2bee-4171-8252-78ecdf220792"
      },
      "execution_count": null,
      "outputs": [
        {
          "output_type": "execute_result",
          "data": {
            "text/plain": [
              "(252, 100)"
            ]
          },
          "metadata": {},
          "execution_count": 12
        }
      ]
    },
    {
      "cell_type": "code",
      "source": [
        "x_train = x_train.reshape(x_train.shape[0] , x_train.shape[1] , 1)\n",
        "x_test = x_test.reshape(x_test.shape[0] , x_test.shape[1] , 1)"
      ],
      "metadata": {
        "id": "vBDuBo6OlczB"
      },
      "execution_count": null,
      "outputs": []
    },
    {
      "cell_type": "code",
      "source": [
        "from tensorflow.keras.models import Sequential\n",
        "from tensorflow.keras.layers import Dense\n",
        "from tensorflow.keras.layers import LSTM"
      ],
      "metadata": {
        "id": "A2iiUb9lmCCc"
      },
      "execution_count": null,
      "outputs": []
    },
    {
      "cell_type": "code",
      "source": [
        "model = Sequential()\n",
        "model.add(LSTM(50 , return_sequences = True , input_shape = (100 , 1)))\n",
        "model.add(LSTM(50 , return_sequences = True ))\n",
        "model.add(LSTM(50))\n",
        "model.add(Dense(1))\n",
        "model.compile(loss = 'mean_squared_error' , optimizer = 'adam')\n"
      ],
      "metadata": {
        "id": "nI5-S_EwuF36"
      },
      "execution_count": null,
      "outputs": []
    },
    {
      "cell_type": "code",
      "source": [
        "model.summary()"
      ],
      "metadata": {
        "colab": {
          "base_uri": "https://localhost:8080/"
        },
        "id": "ihMnfvDJuvQN",
        "outputId": "95b31504-0c41-421b-96e1-bfdcf7a5eebb"
      },
      "execution_count": null,
      "outputs": [
        {
          "output_type": "stream",
          "name": "stdout",
          "text": [
            "Model: \"sequential\"\n",
            "_________________________________________________________________\n",
            " Layer (type)                Output Shape              Param #   \n",
            "=================================================================\n",
            " lstm (LSTM)                 (None, 100, 50)           10400     \n",
            "                                                                 \n",
            " lstm_1 (LSTM)               (None, 100, 50)           20200     \n",
            "                                                                 \n",
            " lstm_2 (LSTM)               (None, 50)                20200     \n",
            "                                                                 \n",
            " dense (Dense)               (None, 1)                 51        \n",
            "                                                                 \n",
            "=================================================================\n",
            "Total params: 50851 (198.64 KB)\n",
            "Trainable params: 50851 (198.64 KB)\n",
            "Non-trainable params: 0 (0.00 Byte)\n",
            "_________________________________________________________________\n"
          ]
        }
      ]
    },
    {
      "cell_type": "code",
      "source": [
        "model.fit(x_train , y_train , validation_data = (x_test , y_test) , epochs = 100 , batch_size = 64 , verbose = 1)"
      ],
      "metadata": {
        "colab": {
          "base_uri": "https://localhost:8080/"
        },
        "id": "Viye6yUpuxtM",
        "outputId": "608cbe88-9123-4377-829f-9a6115d098a7"
      },
      "execution_count": null,
      "outputs": [
        {
          "output_type": "stream",
          "name": "stdout",
          "text": [
            "Epoch 1/100\n",
            "9/9 [==============================] - 12s 621ms/step - loss: 0.0092 - val_loss: 0.0666\n",
            "Epoch 2/100\n",
            "9/9 [==============================] - 2s 189ms/step - loss: 0.0030 - val_loss: 0.0040\n",
            "Epoch 3/100\n",
            "9/9 [==============================] - 2s 194ms/step - loss: 0.0015 - val_loss: 0.0066\n",
            "Epoch 4/100\n",
            "9/9 [==============================] - 2s 195ms/step - loss: 9.6010e-04 - val_loss: 0.0059\n",
            "Epoch 5/100\n",
            "9/9 [==============================] - 2s 190ms/step - loss: 6.8994e-04 - val_loss: 0.0020\n",
            "Epoch 6/100\n",
            "9/9 [==============================] - 3s 356ms/step - loss: 6.5121e-04 - val_loss: 0.0020\n",
            "Epoch 7/100\n",
            "9/9 [==============================] - 5s 520ms/step - loss: 5.9507e-04 - val_loss: 0.0021\n",
            "Epoch 8/100\n",
            "9/9 [==============================] - 3s 381ms/step - loss: 5.6498e-04 - val_loss: 0.0028\n",
            "Epoch 9/100\n",
            "9/9 [==============================] - 4s 416ms/step - loss: 5.3067e-04 - val_loss: 0.0017\n",
            "Epoch 10/100\n",
            "9/9 [==============================] - 4s 412ms/step - loss: 4.9269e-04 - val_loss: 0.0014\n",
            "Epoch 11/100\n",
            "9/9 [==============================] - 5s 521ms/step - loss: 4.5638e-04 - val_loss: 0.0015\n",
            "Epoch 12/100\n",
            "9/9 [==============================] - 2s 250ms/step - loss: 4.8636e-04 - val_loss: 0.0043\n",
            "Epoch 13/100\n",
            "9/9 [==============================] - 4s 447ms/step - loss: 4.9922e-04 - val_loss: 0.0016\n",
            "Epoch 14/100\n",
            "9/9 [==============================] - 2s 191ms/step - loss: 4.1096e-04 - val_loss: 0.0013\n",
            "Epoch 15/100\n",
            "9/9 [==============================] - 2s 272ms/step - loss: 4.0405e-04 - val_loss: 0.0017\n",
            "Epoch 16/100\n",
            "9/9 [==============================] - 3s 328ms/step - loss: 3.9729e-04 - val_loss: 0.0013\n",
            "Epoch 17/100\n",
            "9/9 [==============================] - 3s 392ms/step - loss: 4.4244e-04 - val_loss: 0.0015\n",
            "Epoch 18/100\n",
            "9/9 [==============================] - 4s 421ms/step - loss: 3.8253e-04 - val_loss: 0.0044\n",
            "Epoch 19/100\n",
            "9/9 [==============================] - 4s 496ms/step - loss: 4.2855e-04 - val_loss: 0.0017\n",
            "Epoch 20/100\n",
            "9/9 [==============================] - 5s 530ms/step - loss: 4.0326e-04 - val_loss: 0.0026\n",
            "Epoch 21/100\n",
            "9/9 [==============================] - 4s 418ms/step - loss: 4.9525e-04 - val_loss: 0.0013\n",
            "Epoch 22/100\n",
            "9/9 [==============================] - 3s 377ms/step - loss: 4.4826e-04 - val_loss: 0.0014\n",
            "Epoch 23/100\n",
            "9/9 [==============================] - 5s 601ms/step - loss: 4.1254e-04 - val_loss: 0.0016\n",
            "Epoch 24/100\n",
            "9/9 [==============================] - 3s 368ms/step - loss: 3.7712e-04 - val_loss: 0.0029\n",
            "Epoch 25/100\n",
            "9/9 [==============================] - 3s 328ms/step - loss: 3.4758e-04 - val_loss: 0.0015\n",
            "Epoch 26/100\n",
            "9/9 [==============================] - 2s 282ms/step - loss: 3.3275e-04 - val_loss: 0.0023\n",
            "Epoch 27/100\n",
            "9/9 [==============================] - 2s 207ms/step - loss: 3.3682e-04 - val_loss: 0.0012\n",
            "Epoch 28/100\n",
            "9/9 [==============================] - 3s 349ms/step - loss: 3.2962e-04 - val_loss: 0.0026\n",
            "Epoch 29/100\n",
            "9/9 [==============================] - 2s 194ms/step - loss: 3.4948e-04 - val_loss: 0.0012\n",
            "Epoch 30/100\n",
            "9/9 [==============================] - 2s 195ms/step - loss: 4.0107e-04 - val_loss: 0.0013\n",
            "Epoch 31/100\n",
            "9/9 [==============================] - 2s 218ms/step - loss: 3.3272e-04 - val_loss: 0.0012\n",
            "Epoch 32/100\n",
            "9/9 [==============================] - 2s 226ms/step - loss: 3.5129e-04 - val_loss: 0.0013\n",
            "Epoch 33/100\n",
            "9/9 [==============================] - 2s 234ms/step - loss: 3.1143e-04 - val_loss: 0.0049\n",
            "Epoch 34/100\n",
            "9/9 [==============================] - 3s 302ms/step - loss: 3.2312e-04 - val_loss: 0.0027\n",
            "Epoch 35/100\n",
            "9/9 [==============================] - 3s 314ms/step - loss: 3.1153e-04 - val_loss: 0.0012\n",
            "Epoch 36/100\n",
            "9/9 [==============================] - 2s 210ms/step - loss: 3.3589e-04 - val_loss: 0.0020\n",
            "Epoch 37/100\n",
            "9/9 [==============================] - 2s 198ms/step - loss: 3.0066e-04 - val_loss: 0.0012\n",
            "Epoch 38/100\n",
            "9/9 [==============================] - 2s 202ms/step - loss: 3.5495e-04 - val_loss: 0.0011\n",
            "Epoch 39/100\n",
            "9/9 [==============================] - 2s 203ms/step - loss: 4.0757e-04 - val_loss: 0.0021\n",
            "Epoch 40/100\n",
            "9/9 [==============================] - 2s 194ms/step - loss: 3.4510e-04 - val_loss: 0.0037\n",
            "Epoch 41/100\n",
            "9/9 [==============================] - 3s 311ms/step - loss: 3.0422e-04 - val_loss: 0.0040\n",
            "Epoch 42/100\n",
            "9/9 [==============================] - 3s 289ms/step - loss: 3.0443e-04 - val_loss: 0.0040\n",
            "Epoch 43/100\n",
            "9/9 [==============================] - 2s 220ms/step - loss: 3.1018e-04 - val_loss: 0.0041\n",
            "Epoch 44/100\n",
            "9/9 [==============================] - 2s 209ms/step - loss: 2.9032e-04 - val_loss: 0.0037\n",
            "Epoch 45/100\n",
            "9/9 [==============================] - 2s 222ms/step - loss: 3.0696e-04 - val_loss: 0.0013\n",
            "Epoch 46/100\n",
            "9/9 [==============================] - 2s 248ms/step - loss: 3.6519e-04 - val_loss: 0.0016\n",
            "Epoch 47/100\n",
            "9/9 [==============================] - 2s 261ms/step - loss: 2.9261e-04 - val_loss: 0.0037\n",
            "Epoch 48/100\n",
            "9/9 [==============================] - 3s 341ms/step - loss: 2.9813e-04 - val_loss: 0.0025\n",
            "Epoch 49/100\n",
            "9/9 [==============================] - 2s 216ms/step - loss: 3.0671e-04 - val_loss: 0.0013\n",
            "Epoch 50/100\n",
            "9/9 [==============================] - 2s 196ms/step - loss: 3.0344e-04 - val_loss: 0.0031\n",
            "Epoch 51/100\n",
            "9/9 [==============================] - 2s 211ms/step - loss: 2.9243e-04 - val_loss: 0.0047\n",
            "Epoch 52/100\n",
            "9/9 [==============================] - 2s 211ms/step - loss: 2.9928e-04 - val_loss: 0.0045\n",
            "Epoch 53/100\n",
            "9/9 [==============================] - 2s 212ms/step - loss: 2.9259e-04 - val_loss: 0.0042\n",
            "Epoch 54/100\n",
            "9/9 [==============================] - 3s 314ms/step - loss: 2.9042e-04 - val_loss: 0.0059\n",
            "Epoch 55/100\n",
            "9/9 [==============================] - 3s 344ms/step - loss: 3.0158e-04 - val_loss: 0.0074\n",
            "Epoch 56/100\n",
            "9/9 [==============================] - 2s 194ms/step - loss: 3.6448e-04 - val_loss: 0.0088\n",
            "Epoch 57/100\n",
            "9/9 [==============================] - 2s 192ms/step - loss: 3.8724e-04 - val_loss: 0.0045\n",
            "Epoch 58/100\n",
            "9/9 [==============================] - 2s 193ms/step - loss: 3.4829e-04 - val_loss: 0.0017\n",
            "Epoch 59/100\n",
            "9/9 [==============================] - 2s 192ms/step - loss: 3.0196e-04 - val_loss: 0.0035\n",
            "Epoch 60/100\n",
            "9/9 [==============================] - 2s 190ms/step - loss: 2.7799e-04 - val_loss: 0.0031\n",
            "Epoch 61/100\n",
            "9/9 [==============================] - 2s 260ms/step - loss: 3.0874e-04 - val_loss: 0.0022\n",
            "Epoch 62/100\n",
            "9/9 [==============================] - 3s 295ms/step - loss: 2.8525e-04 - val_loss: 0.0024\n",
            "Epoch 63/100\n",
            "9/9 [==============================] - 2s 200ms/step - loss: 2.7322e-04 - val_loss: 0.0035\n",
            "Epoch 64/100\n",
            "9/9 [==============================] - 2s 269ms/step - loss: 2.6499e-04 - val_loss: 0.0067\n",
            "Epoch 65/100\n",
            "9/9 [==============================] - 2s 193ms/step - loss: 2.7069e-04 - val_loss: 0.0051\n",
            "Epoch 66/100\n",
            "9/9 [==============================] - 2s 200ms/step - loss: 2.7904e-04 - val_loss: 0.0055\n",
            "Epoch 67/100\n",
            "9/9 [==============================] - 2s 212ms/step - loss: 3.2150e-04 - val_loss: 0.0053\n",
            "Epoch 68/100\n",
            "9/9 [==============================] - 3s 331ms/step - loss: 3.1682e-04 - val_loss: 0.0066\n",
            "Epoch 69/100\n",
            "9/9 [==============================] - 3s 284ms/step - loss: 3.1527e-04 - val_loss: 0.0076\n",
            "Epoch 70/100\n",
            "9/9 [==============================] - 2s 194ms/step - loss: 3.1533e-04 - val_loss: 0.0072\n",
            "Epoch 71/100\n",
            "9/9 [==============================] - 2s 197ms/step - loss: 2.9278e-04 - val_loss: 0.0074\n",
            "Epoch 72/100\n",
            "9/9 [==============================] - 2s 195ms/step - loss: 2.9371e-04 - val_loss: 0.0081\n",
            "Epoch 73/100\n",
            "9/9 [==============================] - 2s 196ms/step - loss: 2.6577e-04 - val_loss: 0.0043\n",
            "Epoch 74/100\n",
            "9/9 [==============================] - 2s 193ms/step - loss: 2.6599e-04 - val_loss: 0.0044\n",
            "Epoch 75/100\n",
            "9/9 [==============================] - 3s 326ms/step - loss: 2.7455e-04 - val_loss: 0.0022\n",
            "Epoch 76/100\n",
            "9/9 [==============================] - 3s 372ms/step - loss: 2.5359e-04 - val_loss: 0.0038\n",
            "Epoch 77/100\n",
            "9/9 [==============================] - 2s 196ms/step - loss: 2.6130e-04 - val_loss: 0.0038\n",
            "Epoch 78/100\n",
            "9/9 [==============================] - 2s 191ms/step - loss: 2.5691e-04 - val_loss: 0.0025\n",
            "Epoch 79/100\n",
            "9/9 [==============================] - 2s 194ms/step - loss: 2.5006e-04 - val_loss: 0.0026\n",
            "Epoch 80/100\n",
            "9/9 [==============================] - 2s 196ms/step - loss: 2.7889e-04 - val_loss: 0.0018\n",
            "Epoch 81/100\n",
            "9/9 [==============================] - 2s 203ms/step - loss: 2.6044e-04 - val_loss: 0.0050\n",
            "Epoch 82/100\n",
            "9/9 [==============================] - 3s 335ms/step - loss: 2.3784e-04 - val_loss: 0.0038\n",
            "Epoch 83/100\n",
            "9/9 [==============================] - 2s 217ms/step - loss: 2.7156e-04 - val_loss: 0.0040\n",
            "Epoch 84/100\n",
            "9/9 [==============================] - 2s 191ms/step - loss: 3.0120e-04 - val_loss: 0.0036\n",
            "Epoch 85/100\n",
            "9/9 [==============================] - 2s 191ms/step - loss: 2.5713e-04 - val_loss: 0.0037\n",
            "Epoch 86/100\n",
            "9/9 [==============================] - 2s 212ms/step - loss: 2.4223e-04 - val_loss: 0.0058\n",
            "Epoch 87/100\n",
            "9/9 [==============================] - 2s 219ms/step - loss: 2.3066e-04 - val_loss: 0.0032\n",
            "Epoch 88/100\n",
            "9/9 [==============================] - 2s 257ms/step - loss: 2.3101e-04 - val_loss: 0.0038\n",
            "Epoch 89/100\n",
            "9/9 [==============================] - 3s 354ms/step - loss: 2.3634e-04 - val_loss: 0.0047\n",
            "Epoch 90/100\n",
            "9/9 [==============================] - 2s 225ms/step - loss: 2.3322e-04 - val_loss: 0.0047\n",
            "Epoch 91/100\n",
            "9/9 [==============================] - 2s 197ms/step - loss: 2.2249e-04 - val_loss: 0.0032\n",
            "Epoch 92/100\n",
            "9/9 [==============================] - 2s 193ms/step - loss: 2.3383e-04 - val_loss: 0.0067\n",
            "Epoch 93/100\n",
            "9/9 [==============================] - 2s 192ms/step - loss: 2.5148e-04 - val_loss: 0.0057\n",
            "Epoch 94/100\n",
            "9/9 [==============================] - 2s 196ms/step - loss: 2.2516e-04 - val_loss: 0.0051\n",
            "Epoch 95/100\n",
            "9/9 [==============================] - 2s 285ms/step - loss: 2.2059e-04 - val_loss: 0.0061\n",
            "Epoch 96/100\n",
            "9/9 [==============================] - 3s 311ms/step - loss: 2.2421e-04 - val_loss: 0.0059\n",
            "Epoch 97/100\n",
            "9/9 [==============================] - 2s 243ms/step - loss: 2.3426e-04 - val_loss: 0.0053\n",
            "Epoch 98/100\n",
            "9/9 [==============================] - 2s 191ms/step - loss: 2.5963e-04 - val_loss: 0.0039\n",
            "Epoch 99/100\n",
            "9/9 [==============================] - 2s 195ms/step - loss: 2.6252e-04 - val_loss: 0.0023\n",
            "Epoch 100/100\n",
            "9/9 [==============================] - 2s 193ms/step - loss: 2.2210e-04 - val_loss: 0.0036\n"
          ]
        },
        {
          "output_type": "execute_result",
          "data": {
            "text/plain": [
              "<keras.src.callbacks.History at 0x7d7550061ff0>"
            ]
          },
          "metadata": {},
          "execution_count": 17
        }
      ]
    },
    {
      "cell_type": "code",
      "source": [
        "train_predict = model.predict(x_train)\n",
        "test_predict = model.predict(x_test)"
      ],
      "metadata": {
        "colab": {
          "base_uri": "https://localhost:8080/"
        },
        "id": "kUXu31GIvNHZ",
        "outputId": "4199e359-2bd0-4084-96d3-60b37c12cc5b"
      },
      "execution_count": null,
      "outputs": [
        {
          "output_type": "stream",
          "name": "stdout",
          "text": [
            "18/18 [==============================] - 2s 39ms/step\n",
            "8/8 [==============================] - 0s 37ms/step\n"
          ]
        }
      ]
    },
    {
      "cell_type": "code",
      "source": [
        "train_predict = scaler.inverse_transform(train_predict)\n",
        "test_predict = scaler.inverse_transform(test_predict)\n"
      ],
      "metadata": {
        "id": "S1jLr49Iw_Zc"
      },
      "execution_count": null,
      "outputs": []
    },
    {
      "cell_type": "code",
      "source": [
        "import math\n",
        "from sklearn.metrics import mean_squared_error as mse\n",
        "math.sqrt(mse(y_train , train_predict))\n"
      ],
      "metadata": {
        "colab": {
          "base_uri": "https://localhost:8080/"
        },
        "id": "aqMvpaG6xTsy",
        "outputId": "86fc3ea3-2e0c-4400-d0b9-691e1d8dbbba"
      },
      "execution_count": null,
      "outputs": [
        {
          "output_type": "execute_result",
          "data": {
            "text/plain": [
              "60.52859253378583"
            ]
          },
          "metadata": {},
          "execution_count": 20
        }
      ]
    },
    {
      "cell_type": "code",
      "source": [
        "math.sqrt(mse(y_test , test_predict))\n"
      ],
      "metadata": {
        "colab": {
          "base_uri": "https://localhost:8080/"
        },
        "id": "RoVGx-WwxnX8",
        "outputId": "bc68254f-f981-4625-a73a-7a0447f43b8e"
      },
      "execution_count": null,
      "outputs": [
        {
          "output_type": "execute_result",
          "data": {
            "text/plain": [
              "148.7062839138228"
            ]
          },
          "metadata": {},
          "execution_count": 21
        }
      ]
    },
    {
      "cell_type": "code",
      "source": [
        "### Plotting\n",
        "# shift train predictions for plotting\n",
        "look_back=100\n",
        "trainPredictPlot = np.empty_like(df1)\n",
        "trainPredictPlot[:, :] = np.nan\n",
        "trainPredictPlot[look_back:len(train_predict)+look_back, :] = train_predict\n",
        "# shift test predictions for plotting\n",
        "testPredictPlot = np.empty_like(df1)\n",
        "testPredictPlot[:, :] = np.nan\n",
        "testPredictPlot[len(train_predict)+(look_back*2)+1:len(df1)-1, :] = test_predict\n",
        "# plot baseline and predictions\n",
        "plt.plot(scaler.inverse_transform(df1))\n",
        "plt.plot(trainPredictPlot)\n",
        "plt.plot(testPredictPlot)\n",
        "plt.show()"
      ],
      "metadata": {
        "colab": {
          "base_uri": "https://localhost:8080/",
          "height": 435
        },
        "id": "0OqKy1nT532Z",
        "outputId": "59c56a9f-31e3-42de-c389-4d845e3d05e7"
      },
      "execution_count": null,
      "outputs": [
        {
          "output_type": "display_data",
          "data": {
            "text/plain": [
              "<Figure size 640x480 with 1 Axes>"
            ],
            "image/png": "[encoded data removed]"
          },
          "metadata": {}
        }
      ]
    },
    {
      "cell_type": "code",
      "source": [
        "x_input=test[253:].reshape(1,-1)\n",
        "x_input.shape"
      ],
      "metadata": {
        "colab": {
          "base_uri": "https://localhost:8080/"
        },
        "id": "iFbteuSL58Jz",
        "outputId": "77d4fdaa-face-4f82-8641-eb0676436b50"
      },
      "execution_count": null,
      "outputs": [
        {
          "output_type": "execute_result",
          "data": {
            "text/plain": [
              "(1, 100)"
            ]
          },
          "metadata": {},
          "execution_count": 22
        }
      ]
    },
    {
      "cell_type": "code",
      "source": [
        "temp_input=list(x_input)\n",
        "temp_input=temp_input[0].tolist()"
      ],
      "metadata": {
        "id": "V1dLG6pU6A4i"
      },
      "execution_count": null,
      "outputs": []
    },
    {
      "cell_type": "code",
      "source": [
        "from numpy import array\n",
        "\n",
        "lst_output=[]\n",
        "n_steps=100\n",
        "i=0\n",
        "while(i<30):\n",
        "\n",
        "    if(len(temp_input)>100):\n",
        "        #print(temp_input)\n",
        "        x_input=np.array(temp_input[1:])\n",
        "        print(\"{} day input {}\".format(i,x_input))\n",
        "        x_input=x_input.reshape(1,-1)\n",
        "        x_input = x_input.reshape((1, n_steps, 1))\n",
        "        #print(x_input)\n",
        "        yhat = model.predict(x_input, verbose=0)\n",
        "        print(\"{} day output {}\".format(i,yhat))\n",
        "        temp_input.extend(yhat[0].tolist())\n",
        "        temp_input=temp_input[1:]\n",
        "        #print(temp_input)\n",
        "        lst_output.extend(yhat.tolist())\n",
        "        i=i+1\n",
        "    else:\n",
        "        x_input = x_input.reshape((1, n_steps,1))\n",
        "        yhat = model.predict(x_input, verbose=0)\n",
        "        print(yhat[0])\n",
        "        temp_input.extend(yhat[0].tolist())\n",
        "        print(len(temp_input))\n",
        "        lst_output.extend(yhat.tolist())\n",
        "        i=i+1\n",
        "\n",
        "\n",
        "print(lst_output)"
      ],
      "metadata": {
        "colab": {
          "base_uri": "https://localhost:8080/"
        },
        "id": "E9yakmvx7T54",
        "outputId": "607d34df-0885-42d3-e973-3241afb6c5de"
      },
      "execution_count": null,
      "outputs": [
        {
          "output_type": "stream",
          "name": "stdout",
          "text": [
            "[1.091389]\n",
            "101\n",
            "1 day input [0.78284667 0.78429717 0.79824905 0.79182568 0.76537219 0.76772051\n",
            " 0.77801185 0.78851039 0.78788869 0.77918601 0.7735223  0.78084371\n",
            " 0.81206288 0.80315301 0.80784966 0.81572353 0.82021309 0.8367206\n",
            " 0.82580767 0.81862453 0.78339923 0.78740526 0.77752832 0.78381363\n",
            " 0.78215594 0.7633001  0.74175056 0.74513488 0.7618497  0.76861845\n",
            " 0.76924004 0.75853431 0.73463645 0.7409908  0.73180459 0.7397475\n",
            " 0.71550428 0.7291109  0.73525805 0.74416792 0.74147423 0.74085263\n",
            " 0.73187362 0.72772954 0.74741418 0.75487365 0.76668452 0.78194874\n",
            " 0.78540219 0.78692172 0.78146531 0.78111994 0.7858167  0.78257044\n",
            " 0.80826416 0.78913198 0.7833302  0.79065151 0.80080468 0.79714403\n",
            " 0.79935418 0.7935524  0.79610793 0.77614696 0.77580159 0.79044431\n",
            " 0.79051335 0.79742026 0.81461851 0.84487071 0.86338129 0.86662755\n",
            " 0.86932124 0.87298189 0.8375494  0.86124016 0.89618912 0.89252847\n",
            " 0.88555242 0.87229116 0.89632729 0.93680169 0.96373871 0.96014709\n",
            " 0.99392188 0.9682973  0.95855853 0.99288589 0.94426117 0.93652546\n",
            " 0.92692486 0.94930329 0.96760657 0.97202699 1.         0.99281675\n",
            " 0.99343845 0.98528824 0.98093696 1.09138894]\n",
            "1 day output [[1.1093258]]\n",
            "2 day input [0.78429717 0.79824905 0.79182568 0.76537219 0.76772051 0.77801185\n",
            " 0.78851039 0.78788869 0.77918601 0.7735223  0.78084371 0.81206288\n",
            " 0.80315301 0.80784966 0.81572353 0.82021309 0.8367206  0.82580767\n",
            " 0.81862453 0.78339923 0.78740526 0.77752832 0.78381363 0.78215594\n",
            " 0.7633001  0.74175056 0.74513488 0.7618497  0.76861845 0.76924004\n",
            " 0.75853431 0.73463645 0.7409908  0.73180459 0.7397475  0.71550428\n",
            " 0.7291109  0.73525805 0.74416792 0.74147423 0.74085263 0.73187362\n",
            " 0.72772954 0.74741418 0.75487365 0.76668452 0.78194874 0.78540219\n",
            " 0.78692172 0.78146531 0.78111994 0.7858167  0.78257044 0.80826416\n",
            " 0.78913198 0.7833302  0.79065151 0.80080468 0.79714403 0.79935418\n",
            " 0.7935524  0.79610793 0.77614696 0.77580159 0.79044431 0.79051335\n",
            " 0.79742026 0.81461851 0.84487071 0.86338129 0.86662755 0.86932124\n",
            " 0.87298189 0.8375494  0.86124016 0.89618912 0.89252847 0.88555242\n",
            " 0.87229116 0.89632729 0.93680169 0.96373871 0.96014709 0.99392188\n",
            " 0.9682973  0.95855853 0.99288589 0.94426117 0.93652546 0.92692486\n",
            " 0.94930329 0.96760657 0.97202699 1.         0.99281675 0.99343845\n",
            " 0.98528824 0.98093696 1.09138894 1.10932577]\n",
            "2 day output [[1.1355191]]\n",
            "3 day input [0.79824905 0.79182568 0.76537219 0.76772051 0.77801185 0.78851039\n",
            " 0.78788869 0.77918601 0.7735223  0.78084371 0.81206288 0.80315301\n",
            " 0.80784966 0.81572353 0.82021309 0.8367206  0.82580767 0.81862453\n",
            " 0.78339923 0.78740526 0.77752832 0.78381363 0.78215594 0.7633001\n",
            " 0.74175056 0.74513488 0.7618497  0.76861845 0.76924004 0.75853431\n",
            " 0.73463645 0.7409908  0.73180459 0.7397475  0.71550428 0.7291109\n",
            " 0.73525805 0.74416792 0.74147423 0.74085263 0.73187362 0.72772954\n",
            " 0.74741418 0.75487365 0.76668452 0.78194874 0.78540219 0.78692172\n",
            " 0.78146531 0.78111994 0.7858167  0.78257044 0.80826416 0.78913198\n",
            " 0.7833302  0.79065151 0.80080468 0.79714403 0.79935418 0.7935524\n",
            " 0.79610793 0.77614696 0.77580159 0.79044431 0.79051335 0.79742026\n",
            " 0.81461851 0.84487071 0.86338129 0.86662755 0.86932124 0.87298189\n",
            " 0.8375494  0.86124016 0.89618912 0.89252847 0.88555242 0.87229116\n",
            " 0.89632729 0.93680169 0.96373871 0.96014709 0.99392188 0.9682973\n",
            " 0.95855853 0.99288589 0.94426117 0.93652546 0.92692486 0.94930329\n",
            " 0.96760657 0.97202699 1.         0.99281675 0.99343845 0.98528824\n",
            " 0.98093696 1.09138894 1.10932577 1.13551915]\n",
            "3 day output [[1.1656246]]\n",
            "4 day input [0.79182568 0.76537219 0.76772051 0.77801185 0.78851039 0.78788869\n",
            " 0.77918601 0.7735223  0.78084371 0.81206288 0.80315301 0.80784966\n",
            " 0.81572353 0.82021309 0.8367206  0.82580767 0.81862453 0.78339923\n",
            " 0.78740526 0.77752832 0.78381363 0.78215594 0.7633001  0.74175056\n",
            " 0.74513488 0.7618497  0.76861845 0.76924004 0.75853431 0.73463645\n",
            " 0.7409908  0.73180459 0.7397475  0.71550428 0.7291109  0.73525805\n",
            " 0.74416792 0.74147423 0.74085263 0.73187362 0.72772954 0.74741418\n",
            " 0.75487365 0.76668452 0.78194874 0.78540219 0.78692172 0.78146531\n",
            " 0.78111994 0.7858167  0.78257044 0.80826416 0.78913198 0.7833302\n",
            " 0.79065151 0.80080468 0.79714403 0.79935418 0.7935524  0.79610793\n",
            " 0.77614696 0.77580159 0.79044431 0.79051335 0.79742026 0.81461851\n",
            " 0.84487071 0.86338129 0.86662755 0.86932124 0.87298189 0.8375494\n",
            " 0.86124016 0.89618912 0.89252847 0.88555242 0.87229116 0.89632729\n",
            " 0.93680169 0.96373871 0.96014709 0.99392188 0.9682973  0.95855853\n",
            " 0.99288589 0.94426117 0.93652546 0.92692486 0.94930329 0.96760657\n",
            " 0.97202699 1.         0.99281675 0.99343845 0.98528824 0.98093696\n",
            " 1.09138894 1.10932577 1.13551915 1.16562462]\n",
            "4 day output [[1.1976987]]\n",
            "5 day input [0.76537219 0.76772051 0.77801185 0.78851039 0.78788869 0.77918601\n",
            " 0.7735223  0.78084371 0.81206288 0.80315301 0.80784966 0.81572353\n",
            " 0.82021309 0.8367206  0.82580767 0.81862453 0.78339923 0.78740526\n",
            " 0.77752832 0.78381363 0.78215594 0.7633001  0.74175056 0.74513488\n",
            " 0.7618497  0.76861845 0.76924004 0.75853431 0.73463645 0.7409908\n",
            " 0.73180459 0.7397475  0.71550428 0.7291109  0.73525805 0.74416792\n",
            " 0.74147423 0.74085263 0.73187362 0.72772954 0.74741418 0.75487365\n",
            " 0.76668452 0.78194874 0.78540219 0.78692172 0.78146531 0.78111994\n",
            " 0.7858167  0.78257044 0.80826416 0.78913198 0.7833302  0.79065151\n",
            " 0.80080468 0.79714403 0.79935418 0.7935524  0.79610793 0.77614696\n",
            " 0.77580159 0.79044431 0.79051335 0.79742026 0.81461851 0.84487071\n",
            " 0.86338129 0.86662755 0.86932124 0.87298189 0.8375494  0.86124016\n",
            " 0.89618912 0.89252847 0.88555242 0.87229116 0.89632729 0.93680169\n",
            " 0.96373871 0.96014709 0.99392188 0.9682973  0.95855853 0.99288589\n",
            " 0.94426117 0.93652546 0.92692486 0.94930329 0.96760657 0.97202699\n",
            " 1.         0.99281675 0.99343845 0.98528824 0.98093696 1.09138894\n",
            " 1.10932577 1.13551915 1.16562462 1.19769871]\n",
            "5 day output [[1.230926]]\n",
            "6 day input [0.76772051 0.77801185 0.78851039 0.78788869 0.77918601 0.7735223\n",
            " 0.78084371 0.81206288 0.80315301 0.80784966 0.81572353 0.82021309\n",
            " 0.8367206  0.82580767 0.81862453 0.78339923 0.78740526 0.77752832\n",
            " 0.78381363 0.78215594 0.7633001  0.74175056 0.74513488 0.7618497\n",
            " 0.76861845 0.76924004 0.75853431 0.73463645 0.7409908  0.73180459\n",
            " 0.7397475  0.71550428 0.7291109  0.73525805 0.74416792 0.74147423\n",
            " 0.74085263 0.73187362 0.72772954 0.74741418 0.75487365 0.76668452\n",
            " 0.78194874 0.78540219 0.78692172 0.78146531 0.78111994 0.7858167\n",
            " 0.78257044 0.80826416 0.78913198 0.7833302  0.79065151 0.80080468\n",
            " 0.79714403 0.79935418 0.7935524  0.79610793 0.77614696 0.77580159\n",
            " 0.79044431 0.79051335 0.79742026 0.81461851 0.84487071 0.86338129\n",
            " 0.86662755 0.86932124 0.87298189 0.8375494  0.86124016 0.89618912\n",
            " 0.89252847 0.88555242 0.87229116 0.89632729 0.93680169 0.96373871\n",
            " 0.96014709 0.99392188 0.9682973  0.95855853 0.99288589 0.94426117\n",
            " 0.93652546 0.92692486 0.94930329 0.96760657 0.97202699 1.\n",
            " 0.99281675 0.99343845 0.98528824 0.98093696 1.09138894 1.10932577\n",
            " 1.13551915 1.16562462 1.19769871 1.23092604]\n",
            "6 day output [[1.2649647]]\n",
            "7 day input [0.77801185 0.78851039 0.78788869 0.77918601 0.7735223  0.78084371\n",
            " 0.81206288 0.80315301 0.80784966 0.81572353 0.82021309 0.8367206\n",
            " 0.82580767 0.81862453 0.78339923 0.78740526 0.77752832 0.78381363\n",
            " 0.78215594 0.7633001  0.74175056 0.74513488 0.7618497  0.76861845\n",
            " 0.76924004 0.75853431 0.73463645 0.7409908  0.73180459 0.7397475\n",
            " 0.71550428 0.7291109  0.73525805 0.74416792 0.74147423 0.74085263\n",
            " 0.73187362 0.72772954 0.74741418 0.75487365 0.76668452 0.78194874\n",
            " 0.78540219 0.78692172 0.78146531 0.78111994 0.7858167  0.78257044\n",
            " 0.80826416 0.78913198 0.7833302  0.79065151 0.80080468 0.79714403\n",
            " 0.79935418 0.7935524  0.79610793 0.77614696 0.77580159 0.79044431\n",
            " 0.79051335 0.79742026 0.81461851 0.84487071 0.86338129 0.86662755\n",
            " 0.86932124 0.87298189 0.8375494  0.86124016 0.89618912 0.89252847\n",
            " 0.88555242 0.87229116 0.89632729 0.93680169 0.96373871 0.96014709\n",
            " 0.99392188 0.9682973  0.95855853 0.99288589 0.94426117 0.93652546\n",
            " 0.92692486 0.94930329 0.96760657 0.97202699 1.         0.99281675\n",
            " 0.99343845 0.98528824 0.98093696 1.09138894 1.10932577 1.13551915\n",
            " 1.16562462 1.19769871 1.23092604 1.2649647 ]\n",
            "7 day output [[1.2996551]]\n",
            "8 day input [0.78851039 0.78788869 0.77918601 0.7735223  0.78084371 0.81206288\n",
            " 0.80315301 0.80784966 0.81572353 0.82021309 0.8367206  0.82580767\n",
            " 0.81862453 0.78339923 0.78740526 0.77752832 0.78381363 0.78215594\n",
            " 0.7633001  0.74175056 0.74513488 0.7618497  0.76861845 0.76924004\n",
            " 0.75853431 0.73463645 0.7409908  0.73180459 0.7397475  0.71550428\n",
            " 0.7291109  0.73525805 0.74416792 0.74147423 0.74085263 0.73187362\n",
            " 0.72772954 0.74741418 0.75487365 0.76668452 0.78194874 0.78540219\n",
            " 0.78692172 0.78146531 0.78111994 0.7858167  0.78257044 0.80826416\n",
            " 0.78913198 0.7833302  0.79065151 0.80080468 0.79714403 0.79935418\n",
            " 0.7935524  0.79610793 0.77614696 0.77580159 0.79044431 0.79051335\n",
            " 0.79742026 0.81461851 0.84487071 0.86338129 0.86662755 0.86932124\n",
            " 0.87298189 0.8375494  0.86124016 0.89618912 0.89252847 0.88555242\n",
            " 0.87229116 0.89632729 0.93680169 0.96373871 0.96014709 0.99392188\n",
            " 0.9682973  0.95855853 0.99288589 0.94426117 0.93652546 0.92692486\n",
            " 0.94930329 0.96760657 0.97202699 1.         0.99281675 0.99343845\n",
            " 0.98528824 0.98093696 1.09138894 1.10932577 1.13551915 1.16562462\n",
            " 1.19769871 1.23092604 1.2649647  1.29965508]\n",
            "8 day output [[1.3349078]]\n",
            "9 day input [0.78788869 0.77918601 0.7735223  0.78084371 0.81206288 0.80315301\n",
            " 0.80784966 0.81572353 0.82021309 0.8367206  0.82580767 0.81862453\n",
            " 0.78339923 0.78740526 0.77752832 0.78381363 0.78215594 0.7633001\n",
            " 0.74175056 0.74513488 0.7618497  0.76861845 0.76924004 0.75853431\n",
            " 0.73463645 0.7409908  0.73180459 0.7397475  0.71550428 0.7291109\n",
            " 0.73525805 0.74416792 0.74147423 0.74085263 0.73187362 0.72772954\n",
            " 0.74741418 0.75487365 0.76668452 0.78194874 0.78540219 0.78692172\n",
            " 0.78146531 0.78111994 0.7858167  0.78257044 0.80826416 0.78913198\n",
            " 0.7833302  0.79065151 0.80080468 0.79714403 0.79935418 0.7935524\n",
            " 0.79610793 0.77614696 0.77580159 0.79044431 0.79051335 0.79742026\n",
            " 0.81461851 0.84487071 0.86338129 0.86662755 0.86932124 0.87298189\n",
            " 0.8375494  0.86124016 0.89618912 0.89252847 0.88555242 0.87229116\n",
            " 0.89632729 0.93680169 0.96373871 0.96014709 0.99392188 0.9682973\n",
            " 0.95855853 0.99288589 0.94426117 0.93652546 0.92692486 0.94930329\n",
            " 0.96760657 0.97202699 1.         0.99281675 0.99343845 0.98528824\n",
            " 0.98093696 1.09138894 1.10932577 1.13551915 1.16562462 1.19769871\n",
            " 1.23092604 1.2649647  1.29965508 1.33490777]\n",
            "9 day output [[1.3706532]]\n",
            "10 day input [0.77918601 0.7735223  0.78084371 0.81206288 0.80315301 0.80784966\n",
            " 0.81572353 0.82021309 0.8367206  0.82580767 0.81862453 0.78339923\n",
            " 0.78740526 0.77752832 0.78381363 0.78215594 0.7633001  0.74175056\n",
            " 0.74513488 0.7618497  0.76861845 0.76924004 0.75853431 0.73463645\n",
            " 0.7409908  0.73180459 0.7397475  0.71550428 0.7291109  0.73525805\n",
            " 0.74416792 0.74147423 0.74085263 0.73187362 0.72772954 0.74741418\n",
            " 0.75487365 0.76668452 0.78194874 0.78540219 0.78692172 0.78146531\n",
            " 0.78111994 0.7858167  0.78257044 0.80826416 0.78913198 0.7833302\n",
            " 0.79065151 0.80080468 0.79714403 0.79935418 0.7935524  0.79610793\n",
            " 0.77614696 0.77580159 0.79044431 0.79051335 0.79742026 0.81461851\n",
            " 0.84487071 0.86338129 0.86662755 0.86932124 0.87298189 0.8375494\n",
            " 0.86124016 0.89618912 0.89252847 0.88555242 0.87229116 0.89632729\n",
            " 0.93680169 0.96373871 0.96014709 0.99392188 0.9682973  0.95855853\n",
            " 0.99288589 0.94426117 0.93652546 0.92692486 0.94930329 0.96760657\n",
            " 0.97202699 1.         0.99281675 0.99343845 0.98528824 0.98093696\n",
            " 1.09138894 1.10932577 1.13551915 1.16562462 1.19769871 1.23092604\n",
            " 1.2649647  1.29965508 1.33490777 1.37065315]\n",
            "10 day output [[1.4068267]]\n",
            "11 day input [0.7735223  0.78084371 0.81206288 0.80315301 0.80784966 0.81572353\n",
            " 0.82021309 0.8367206  0.82580767 0.81862453 0.78339923 0.78740526\n",
            " 0.77752832 0.78381363 0.78215594 0.7633001  0.74175056 0.74513488\n",
            " 0.7618497  0.76861845 0.76924004 0.75853431 0.73463645 0.7409908\n",
            " 0.73180459 0.7397475  0.71550428 0.7291109  0.73525805 0.74416792\n",
            " 0.74147423 0.74085263 0.73187362 0.72772954 0.74741418 0.75487365\n",
            " 0.76668452 0.78194874 0.78540219 0.78692172 0.78146531 0.78111994\n",
            " 0.7858167  0.78257044 0.80826416 0.78913198 0.7833302  0.79065151\n",
            " 0.80080468 0.79714403 0.79935418 0.7935524  0.79610793 0.77614696\n",
            " 0.77580159 0.79044431 0.79051335 0.79742026 0.81461851 0.84487071\n",
            " 0.86338129 0.86662755 0.86932124 0.87298189 0.8375494  0.86124016\n",
            " 0.89618912 0.89252847 0.88555242 0.87229116 0.89632729 0.93680169\n",
            " 0.96373871 0.96014709 0.99392188 0.9682973  0.95855853 0.99288589\n",
            " 0.94426117 0.93652546 0.92692486 0.94930329 0.96760657 0.97202699\n",
            " 1.         0.99281675 0.99343845 0.98528824 0.98093696 1.09138894\n",
            " 1.10932577 1.13551915 1.16562462 1.19769871 1.23092604 1.2649647\n",
            " 1.29965508 1.33490777 1.37065315 1.40682673]\n",
            "11 day output [[1.4433594]]\n",
            "12 day input [0.78084371 0.81206288 0.80315301 0.80784966 0.81572353 0.82021309\n",
            " 0.8367206  0.82580767 0.81862453 0.78339923 0.78740526 0.77752832\n",
            " 0.78381363 0.78215594 0.7633001  0.74175056 0.74513488 0.7618497\n",
            " 0.76861845 0.76924004 0.75853431 0.73463645 0.7409908  0.73180459\n",
            " 0.7397475  0.71550428 0.7291109  0.73525805 0.74416792 0.74147423\n",
            " 0.74085263 0.73187362 0.72772954 0.74741418 0.75487365 0.76668452\n",
            " 0.78194874 0.78540219 0.78692172 0.78146531 0.78111994 0.7858167\n",
            " 0.78257044 0.80826416 0.78913198 0.7833302  0.79065151 0.80080468\n",
            " 0.79714403 0.79935418 0.7935524  0.79610793 0.77614696 0.77580159\n",
            " 0.79044431 0.79051335 0.79742026 0.81461851 0.84487071 0.86338129\n",
            " 0.86662755 0.86932124 0.87298189 0.8375494  0.86124016 0.89618912\n",
            " 0.89252847 0.88555242 0.87229116 0.89632729 0.93680169 0.96373871\n",
            " 0.96014709 0.99392188 0.9682973  0.95855853 0.99288589 0.94426117\n",
            " 0.93652546 0.92692486 0.94930329 0.96760657 0.97202699 1.\n",
            " 0.99281675 0.99343845 0.98528824 0.98093696 1.09138894 1.10932577\n",
            " 1.13551915 1.16562462 1.19769871 1.23092604 1.2649647  1.29965508\n",
            " 1.33490777 1.37065315 1.40682673 1.44335938]\n",
            "12 day output [[1.4801761]]\n",
            "13 day input [0.81206288 0.80315301 0.80784966 0.81572353 0.82021309 0.8367206\n",
            " 0.82580767 0.81862453 0.78339923 0.78740526 0.77752832 0.78381363\n",
            " 0.78215594 0.7633001  0.74175056 0.74513488 0.7618497  0.76861845\n",
            " 0.76924004 0.75853431 0.73463645 0.7409908  0.73180459 0.7397475\n",
            " 0.71550428 0.7291109  0.73525805 0.74416792 0.74147423 0.74085263\n",
            " 0.73187362 0.72772954 0.74741418 0.75487365 0.76668452 0.78194874\n",
            " 0.78540219 0.78692172 0.78146531 0.78111994 0.7858167  0.78257044\n",
            " 0.80826416 0.78913198 0.7833302  0.79065151 0.80080468 0.79714403\n",
            " 0.79935418 0.7935524  0.79610793 0.77614696 0.77580159 0.79044431\n",
            " 0.79051335 0.79742026 0.81461851 0.84487071 0.86338129 0.86662755\n",
            " 0.86932124 0.87298189 0.8375494  0.86124016 0.89618912 0.89252847\n",
            " 0.88555242 0.87229116 0.89632729 0.93680169 0.96373871 0.96014709\n",
            " 0.99392188 0.9682973  0.95855853 0.99288589 0.94426117 0.93652546\n",
            " 0.92692486 0.94930329 0.96760657 0.97202699 1.         0.99281675\n",
            " 0.99343845 0.98528824 0.98093696 1.09138894 1.10932577 1.13551915\n",
            " 1.16562462 1.19769871 1.23092604 1.2649647  1.29965508 1.33490777\n",
            " 1.37065315 1.40682673 1.44335938 1.48017609]\n",
            "13 day output [[1.5171921]]\n",
            "14 day input [0.80315301 0.80784966 0.81572353 0.82021309 0.8367206  0.82580767\n",
            " 0.81862453 0.78339923 0.78740526 0.77752832 0.78381363 0.78215594\n",
            " 0.7633001  0.74175056 0.74513488 0.7618497  0.76861845 0.76924004\n",
            " 0.75853431 0.73463645 0.7409908  0.73180459 0.7397475  0.71550428\n",
            " 0.7291109  0.73525805 0.74416792 0.74147423 0.74085263 0.73187362\n",
            " 0.72772954 0.74741418 0.75487365 0.76668452 0.78194874 0.78540219\n",
            " 0.78692172 0.78146531 0.78111994 0.7858167  0.78257044 0.80826416\n",
            " 0.78913198 0.7833302  0.79065151 0.80080468 0.79714403 0.79935418\n",
            " 0.7935524  0.79610793 0.77614696 0.77580159 0.79044431 0.79051335\n",
            " 0.79742026 0.81461851 0.84487071 0.86338129 0.86662755 0.86932124\n",
            " 0.87298189 0.8375494  0.86124016 0.89618912 0.89252847 0.88555242\n",
            " 0.87229116 0.89632729 0.93680169 0.96373871 0.96014709 0.99392188\n",
            " 0.9682973  0.95855853 0.99288589 0.94426117 0.93652546 0.92692486\n",
            " 0.94930329 0.96760657 0.97202699 1.         0.99281675 0.99343845\n",
            " 0.98528824 0.98093696 1.09138894 1.10932577 1.13551915 1.16562462\n",
            " 1.19769871 1.23092604 1.2649647  1.29965508 1.33490777 1.37065315\n",
            " 1.40682673 1.44335938 1.48017609 1.51719213]\n",
            "14 day output [[1.5543149]]\n",
            "15 day input [0.80784966 0.81572353 0.82021309 0.8367206  0.82580767 0.81862453\n",
            " 0.78339923 0.78740526 0.77752832 0.78381363 0.78215594 0.7633001\n",
            " 0.74175056 0.74513488 0.7618497  0.76861845 0.76924004 0.75853431\n",
            " 0.73463645 0.7409908  0.73180459 0.7397475  0.71550428 0.7291109\n",
            " 0.73525805 0.74416792 0.74147423 0.74085263 0.73187362 0.72772954\n",
            " 0.74741418 0.75487365 0.76668452 0.78194874 0.78540219 0.78692172\n",
            " 0.78146531 0.78111994 0.7858167  0.78257044 0.80826416 0.78913198\n",
            " 0.7833302  0.79065151 0.80080468 0.79714403 0.79935418 0.7935524\n",
            " 0.79610793 0.77614696 0.77580159 0.79044431 0.79051335 0.79742026\n",
            " 0.81461851 0.84487071 0.86338129 0.86662755 0.86932124 0.87298189\n",
            " 0.8375494  0.86124016 0.89618912 0.89252847 0.88555242 0.87229116\n",
            " 0.89632729 0.93680169 0.96373871 0.96014709 0.99392188 0.9682973\n",
            " 0.95855853 0.99288589 0.94426117 0.93652546 0.92692486 0.94930329\n",
            " 0.96760657 0.97202699 1.         0.99281675 0.99343845 0.98528824\n",
            " 0.98093696 1.09138894 1.10932577 1.13551915 1.16562462 1.19769871\n",
            " 1.23092604 1.2649647  1.29965508 1.33490777 1.37065315 1.40682673\n",
            " 1.44335938 1.48017609 1.51719213 1.55431485]\n",
            "15 day output [[1.5914434]]\n",
            "16 day input [0.81572353 0.82021309 0.8367206  0.82580767 0.81862453 0.78339923\n",
            " 0.78740526 0.77752832 0.78381363 0.78215594 0.7633001  0.74175056\n",
            " 0.74513488 0.7618497  0.76861845 0.76924004 0.75853431 0.73463645\n",
            " 0.7409908  0.73180459 0.7397475  0.71550428 0.7291109  0.73525805\n",
            " 0.74416792 0.74147423 0.74085263 0.73187362 0.72772954 0.74741418\n",
            " 0.75487365 0.76668452 0.78194874 0.78540219 0.78692172 0.78146531\n",
            " 0.78111994 0.7858167  0.78257044 0.80826416 0.78913198 0.7833302\n",
            " 0.79065151 0.80080468 0.79714403 0.79935418 0.7935524  0.79610793\n",
            " 0.77614696 0.77580159 0.79044431 0.79051335 0.79742026 0.81461851\n",
            " 0.84487071 0.86338129 0.86662755 0.86932124 0.87298189 0.8375494\n",
            " 0.86124016 0.89618912 0.89252847 0.88555242 0.87229116 0.89632729\n",
            " 0.93680169 0.96373871 0.96014709 0.99392188 0.9682973  0.95855853\n",
            " 0.99288589 0.94426117 0.93652546 0.92692486 0.94930329 0.96760657\n",
            " 0.97202699 1.         0.99281675 0.99343845 0.98528824 0.98093696\n",
            " 1.09138894 1.10932577 1.13551915 1.16562462 1.19769871 1.23092604\n",
            " 1.2649647  1.29965508 1.33490777 1.37065315 1.40682673 1.44335938\n",
            " 1.48017609 1.51719213 1.55431485 1.59144342]\n",
            "16 day output [[1.628473]]\n",
            "17 day input [0.82021309 0.8367206  0.82580767 0.81862453 0.78339923 0.78740526\n",
            " 0.77752832 0.78381363 0.78215594 0.7633001  0.74175056 0.74513488\n",
            " 0.7618497  0.76861845 0.76924004 0.75853431 0.73463645 0.7409908\n",
            " 0.73180459 0.7397475  0.71550428 0.7291109  0.73525805 0.74416792\n",
            " 0.74147423 0.74085263 0.73187362 0.72772954 0.74741418 0.75487365\n",
            " 0.76668452 0.78194874 0.78540219 0.78692172 0.78146531 0.78111994\n",
            " 0.7858167  0.78257044 0.80826416 0.78913198 0.7833302  0.79065151\n",
            " 0.80080468 0.79714403 0.79935418 0.7935524  0.79610793 0.77614696\n",
            " 0.77580159 0.79044431 0.79051335 0.79742026 0.81461851 0.84487071\n",
            " 0.86338129 0.86662755 0.86932124 0.87298189 0.8375494  0.86124016\n",
            " 0.89618912 0.89252847 0.88555242 0.87229116 0.89632729 0.93680169\n",
            " 0.96373871 0.96014709 0.99392188 0.9682973  0.95855853 0.99288589\n",
            " 0.94426117 0.93652546 0.92692486 0.94930329 0.96760657 0.97202699\n",
            " 1.         0.99281675 0.99343845 0.98528824 0.98093696 1.09138894\n",
            " 1.10932577 1.13551915 1.16562462 1.19769871 1.23092604 1.2649647\n",
            " 1.29965508 1.33490777 1.37065315 1.40682673 1.44335938 1.48017609\n",
            " 1.51719213 1.55431485 1.59144342 1.62847304]\n",
            "17 day output [[1.6652914]]\n",
            "18 day input [0.8367206  0.82580767 0.81862453 0.78339923 0.78740526 0.77752832\n",
            " 0.78381363 0.78215594 0.7633001  0.74175056 0.74513488 0.7618497\n",
            " 0.76861845 0.76924004 0.75853431 0.73463645 0.7409908  0.73180459\n",
            " 0.7397475  0.71550428 0.7291109  0.73525805 0.74416792 0.74147423\n",
            " 0.74085263 0.73187362 0.72772954 0.74741418 0.75487365 0.76668452\n",
            " 0.78194874 0.78540219 0.78692172 0.78146531 0.78111994 0.7858167\n",
            " 0.78257044 0.80826416 0.78913198 0.7833302  0.79065151 0.80080468\n",
            " 0.79714403 0.79935418 0.7935524  0.79610793 0.77614696 0.77580159\n",
            " 0.79044431 0.79051335 0.79742026 0.81461851 0.84487071 0.86338129\n",
            " 0.86662755 0.86932124 0.87298189 0.8375494  0.86124016 0.89618912\n",
            " 0.89252847 0.88555242 0.87229116 0.89632729 0.93680169 0.96373871\n",
            " 0.96014709 0.99392188 0.9682973  0.95855853 0.99288589 0.94426117\n",
            " 0.93652546 0.92692486 0.94930329 0.96760657 0.97202699 1.\n",
            " 0.99281675 0.99343845 0.98528824 0.98093696 1.09138894 1.10932577\n",
            " 1.13551915 1.16562462 1.19769871 1.23092604 1.2649647  1.29965508\n",
            " 1.33490777 1.37065315 1.40682673 1.44335938 1.48017609 1.51719213\n",
            " 1.55431485 1.59144342 1.62847304 1.66529143]\n",
            "18 day output [[1.7017863]]\n",
            "19 day input [0.82580767 0.81862453 0.78339923 0.78740526 0.77752832 0.78381363\n",
            " 0.78215594 0.7633001  0.74175056 0.74513488 0.7618497  0.76861845\n",
            " 0.76924004 0.75853431 0.73463645 0.7409908  0.73180459 0.7397475\n",
            " 0.71550428 0.7291109  0.73525805 0.74416792 0.74147423 0.74085263\n",
            " 0.73187362 0.72772954 0.74741418 0.75487365 0.76668452 0.78194874\n",
            " 0.78540219 0.78692172 0.78146531 0.78111994 0.7858167  0.78257044\n",
            " 0.80826416 0.78913198 0.7833302  0.79065151 0.80080468 0.79714403\n",
            " 0.79935418 0.7935524  0.79610793 0.77614696 0.77580159 0.79044431\n",
            " 0.79051335 0.79742026 0.81461851 0.84487071 0.86338129 0.86662755\n",
            " 0.86932124 0.87298189 0.8375494  0.86124016 0.89618912 0.89252847\n",
            " 0.88555242 0.87229116 0.89632729 0.93680169 0.96373871 0.96014709\n",
            " 0.99392188 0.9682973  0.95855853 0.99288589 0.94426117 0.93652546\n",
            " 0.92692486 0.94930329 0.96760657 0.97202699 1.         0.99281675\n",
            " 0.99343845 0.98528824 0.98093696 1.09138894 1.10932577 1.13551915\n",
            " 1.16562462 1.19769871 1.23092604 1.2649647  1.29965508 1.33490777\n",
            " 1.37065315 1.40682673 1.44335938 1.48017609 1.51719213 1.55431485\n",
            " 1.59144342 1.62847304 1.66529143 1.70178628]\n",
            "19 day output [[1.7378441]]\n",
            "20 day input [0.81862453 0.78339923 0.78740526 0.77752832 0.78381363 0.78215594\n",
            " 0.7633001  0.74175056 0.74513488 0.7618497  0.76861845 0.76924004\n",
            " 0.75853431 0.73463645 0.7409908  0.73180459 0.7397475  0.71550428\n",
            " 0.7291109  0.73525805 0.74416792 0.74147423 0.74085263 0.73187362\n",
            " 0.72772954 0.74741418 0.75487365 0.76668452 0.78194874 0.78540219\n",
            " 0.78692172 0.78146531 0.78111994 0.7858167  0.78257044 0.80826416\n",
            " 0.78913198 0.7833302  0.79065151 0.80080468 0.79714403 0.79935418\n",
            " 0.7935524  0.79610793 0.77614696 0.77580159 0.79044431 0.79051335\n",
            " 0.79742026 0.81461851 0.84487071 0.86338129 0.86662755 0.86932124\n",
            " 0.87298189 0.8375494  0.86124016 0.89618912 0.89252847 0.88555242\n",
            " 0.87229116 0.89632729 0.93680169 0.96373871 0.96014709 0.99392188\n",
            " 0.9682973  0.95855853 0.99288589 0.94426117 0.93652546 0.92692486\n",
            " 0.94930329 0.96760657 0.97202699 1.         0.99281675 0.99343845\n",
            " 0.98528824 0.98093696 1.09138894 1.10932577 1.13551915 1.16562462\n",
            " 1.19769871 1.23092604 1.2649647  1.29965508 1.33490777 1.37065315\n",
            " 1.40682673 1.44335938 1.48017609 1.51719213 1.55431485 1.59144342\n",
            " 1.62847304 1.66529143 1.70178628 1.73784411]\n",
            "20 day output [[1.7733536]]\n",
            "21 day input [0.78339923 0.78740526 0.77752832 0.78381363 0.78215594 0.7633001\n",
            " 0.74175056 0.74513488 0.7618497  0.76861845 0.76924004 0.75853431\n",
            " 0.73463645 0.7409908  0.73180459 0.7397475  0.71550428 0.7291109\n",
            " 0.73525805 0.74416792 0.74147423 0.74085263 0.73187362 0.72772954\n",
            " 0.74741418 0.75487365 0.76668452 0.78194874 0.78540219 0.78692172\n",
            " 0.78146531 0.78111994 0.7858167  0.78257044 0.80826416 0.78913198\n",
            " 0.7833302  0.79065151 0.80080468 0.79714403 0.79935418 0.7935524\n",
            " 0.79610793 0.77614696 0.77580159 0.79044431 0.79051335 0.79742026\n",
            " 0.81461851 0.84487071 0.86338129 0.86662755 0.86932124 0.87298189\n",
            " 0.8375494  0.86124016 0.89618912 0.89252847 0.88555242 0.87229116\n",
            " 0.89632729 0.93680169 0.96373871 0.96014709 0.99392188 0.9682973\n",
            " 0.95855853 0.99288589 0.94426117 0.93652546 0.92692486 0.94930329\n",
            " 0.96760657 0.97202699 1.         0.99281675 0.99343845 0.98528824\n",
            " 0.98093696 1.09138894 1.10932577 1.13551915 1.16562462 1.19769871\n",
            " 1.23092604 1.2649647  1.29965508 1.33490777 1.37065315 1.40682673\n",
            " 1.44335938 1.48017609 1.51719213 1.55431485 1.59144342 1.62847304\n",
            " 1.66529143 1.70178628 1.73784411 1.77335358]\n",
            "21 day output [[1.8082067]]\n",
            "22 day input [0.78740526 0.77752832 0.78381363 0.78215594 0.7633001  0.74175056\n",
            " 0.74513488 0.7618497  0.76861845 0.76924004 0.75853431 0.73463645\n",
            " 0.7409908  0.73180459 0.7397475  0.71550428 0.7291109  0.73525805\n",
            " 0.74416792 0.74147423 0.74085263 0.73187362 0.72772954 0.74741418\n",
            " 0.75487365 0.76668452 0.78194874 0.78540219 0.78692172 0.78146531\n",
            " 0.78111994 0.7858167  0.78257044 0.80826416 0.78913198 0.7833302\n",
            " 0.79065151 0.80080468 0.79714403 0.79935418 0.7935524  0.79610793\n",
            " 0.77614696 0.77580159 0.79044431 0.79051335 0.79742026 0.81461851\n",
            " 0.84487071 0.86338129 0.86662755 0.86932124 0.87298189 0.8375494\n",
            " 0.86124016 0.89618912 0.89252847 0.88555242 0.87229116 0.89632729\n",
            " 0.93680169 0.96373871 0.96014709 0.99392188 0.9682973  0.95855853\n",
            " 0.99288589 0.94426117 0.93652546 0.92692486 0.94930329 0.96760657\n",
            " 0.97202699 1.         0.99281675 0.99343845 0.98528824 0.98093696\n",
            " 1.09138894 1.10932577 1.13551915 1.16562462 1.19769871 1.23092604\n",
            " 1.2649647  1.29965508 1.33490777 1.37065315 1.40682673 1.44335938\n",
            " 1.48017609 1.51719213 1.55431485 1.59144342 1.62847304 1.66529143\n",
            " 1.70178628 1.73784411 1.77335358 1.80820668]\n",
            "22 day output [[1.8423011]]\n",
            "23 day input [0.77752832 0.78381363 0.78215594 0.7633001  0.74175056 0.74513488\n",
            " 0.7618497  0.76861845 0.76924004 0.75853431 0.73463645 0.7409908\n",
            " 0.73180459 0.7397475  0.71550428 0.7291109  0.73525805 0.74416792\n",
            " 0.74147423 0.74085263 0.73187362 0.72772954 0.74741418 0.75487365\n",
            " 0.76668452 0.78194874 0.78540219 0.78692172 0.78146531 0.78111994\n",
            " 0.7858167  0.78257044 0.80826416 0.78913198 0.7833302  0.79065151\n",
            " 0.80080468 0.79714403 0.79935418 0.7935524  0.79610793 0.77614696\n",
            " 0.77580159 0.79044431 0.79051335 0.79742026 0.81461851 0.84487071\n",
            " 0.86338129 0.86662755 0.86932124 0.87298189 0.8375494  0.86124016\n",
            " 0.89618912 0.89252847 0.88555242 0.87229116 0.89632729 0.93680169\n",
            " 0.96373871 0.96014709 0.99392188 0.9682973  0.95855853 0.99288589\n",
            " 0.94426117 0.93652546 0.92692486 0.94930329 0.96760657 0.97202699\n",
            " 1.         0.99281675 0.99343845 0.98528824 0.98093696 1.09138894\n",
            " 1.10932577 1.13551915 1.16562462 1.19769871 1.23092604 1.2649647\n",
            " 1.29965508 1.33490777 1.37065315 1.40682673 1.44335938 1.48017609\n",
            " 1.51719213 1.55431485 1.59144342 1.62847304 1.66529143 1.70178628\n",
            " 1.73784411 1.77335358 1.80820668 1.84230113]\n",
            "23 day output [[1.8755428]]\n",
            "24 day input [0.78381363 0.78215594 0.7633001  0.74175056 0.74513488 0.7618497\n",
            " 0.76861845 0.76924004 0.75853431 0.73463645 0.7409908  0.73180459\n",
            " 0.7397475  0.71550428 0.7291109  0.73525805 0.74416792 0.74147423\n",
            " 0.74085263 0.73187362 0.72772954 0.74741418 0.75487365 0.76668452\n",
            " 0.78194874 0.78540219 0.78692172 0.78146531 0.78111994 0.7858167\n",
            " 0.78257044 0.80826416 0.78913198 0.7833302  0.79065151 0.80080468\n",
            " 0.79714403 0.79935418 0.7935524  0.79610793 0.77614696 0.77580159\n",
            " 0.79044431 0.79051335 0.79742026 0.81461851 0.84487071 0.86338129\n",
            " 0.86662755 0.86932124 0.87298189 0.8375494  0.86124016 0.89618912\n",
            " 0.89252847 0.88555242 0.87229116 0.89632729 0.93680169 0.96373871\n",
            " 0.96014709 0.99392188 0.9682973  0.95855853 0.99288589 0.94426117\n",
            " 0.93652546 0.92692486 0.94930329 0.96760657 0.97202699 1.\n",
            " 0.99281675 0.99343845 0.98528824 0.98093696 1.09138894 1.10932577\n",
            " 1.13551915 1.16562462 1.19769871 1.23092604 1.2649647  1.29965508\n",
            " 1.33490777 1.37065315 1.40682673 1.44335938 1.48017609 1.51719213\n",
            " 1.55431485 1.59144342 1.62847304 1.66529143 1.70178628 1.73784411\n",
            " 1.77335358 1.80820668 1.84230113 1.87554276]\n",
            "24 day output [[1.9078449]]\n",
            "25 day input [0.78215594 0.7633001  0.74175056 0.74513488 0.7618497  0.76861845\n",
            " 0.76924004 0.75853431 0.73463645 0.7409908  0.73180459 0.7397475\n",
            " 0.71550428 0.7291109  0.73525805 0.74416792 0.74147423 0.74085263\n",
            " 0.73187362 0.72772954 0.74741418 0.75487365 0.76668452 0.78194874\n",
            " 0.78540219 0.78692172 0.78146531 0.78111994 0.7858167  0.78257044\n",
            " 0.80826416 0.78913198 0.7833302  0.79065151 0.80080468 0.79714403\n",
            " 0.79935418 0.7935524  0.79610793 0.77614696 0.77580159 0.79044431\n",
            " 0.79051335 0.79742026 0.81461851 0.84487071 0.86338129 0.86662755\n",
            " 0.86932124 0.87298189 0.8375494  0.86124016 0.89618912 0.89252847\n",
            " 0.88555242 0.87229116 0.89632729 0.93680169 0.96373871 0.96014709\n",
            " 0.99392188 0.9682973  0.95855853 0.99288589 0.94426117 0.93652546\n",
            " 0.92692486 0.94930329 0.96760657 0.97202699 1.         0.99281675\n",
            " 0.99343845 0.98528824 0.98093696 1.09138894 1.10932577 1.13551915\n",
            " 1.16562462 1.19769871 1.23092604 1.2649647  1.29965508 1.33490777\n",
            " 1.37065315 1.40682673 1.44335938 1.48017609 1.51719213 1.55431485\n",
            " 1.59144342 1.62847304 1.66529143 1.70178628 1.73784411 1.77335358\n",
            " 1.80820668 1.84230113 1.87554276 1.9078449 ]\n",
            "25 day output [[1.9391309]]\n",
            "26 day input [0.7633001  0.74175056 0.74513488 0.7618497  0.76861845 0.76924004\n",
            " 0.75853431 0.73463645 0.7409908  0.73180459 0.7397475  0.71550428\n",
            " 0.7291109  0.73525805 0.74416792 0.74147423 0.74085263 0.73187362\n",
            " 0.72772954 0.74741418 0.75487365 0.76668452 0.78194874 0.78540219\n",
            " 0.78692172 0.78146531 0.78111994 0.7858167  0.78257044 0.80826416\n",
            " 0.78913198 0.7833302  0.79065151 0.80080468 0.79714403 0.79935418\n",
            " 0.7935524  0.79610793 0.77614696 0.77580159 0.79044431 0.79051335\n",
            " 0.79742026 0.81461851 0.84487071 0.86338129 0.86662755 0.86932124\n",
            " 0.87298189 0.8375494  0.86124016 0.89618912 0.89252847 0.88555242\n",
            " 0.87229116 0.89632729 0.93680169 0.96373871 0.96014709 0.99392188\n",
            " 0.9682973  0.95855853 0.99288589 0.94426117 0.93652546 0.92692486\n",
            " 0.94930329 0.96760657 0.97202699 1.         0.99281675 0.99343845\n",
            " 0.98528824 0.98093696 1.09138894 1.10932577 1.13551915 1.16562462\n",
            " 1.19769871 1.23092604 1.2649647  1.29965508 1.33490777 1.37065315\n",
            " 1.40682673 1.44335938 1.48017609 1.51719213 1.55431485 1.59144342\n",
            " 1.62847304 1.66529143 1.70178628 1.73784411 1.77335358 1.80820668\n",
            " 1.84230113 1.87554276 1.9078449  1.9391309 ]\n",
            "26 day output [[1.969336]]\n",
            "27 day input [0.74175056 0.74513488 0.7618497  0.76861845 0.76924004 0.75853431\n",
            " 0.73463645 0.7409908  0.73180459 0.7397475  0.71550428 0.7291109\n",
            " 0.73525805 0.74416792 0.74147423 0.74085263 0.73187362 0.72772954\n",
            " 0.74741418 0.75487365 0.76668452 0.78194874 0.78540219 0.78692172\n",
            " 0.78146531 0.78111994 0.7858167  0.78257044 0.80826416 0.78913198\n",
            " 0.7833302  0.79065151 0.80080468 0.79714403 0.79935418 0.7935524\n",
            " 0.79610793 0.77614696 0.77580159 0.79044431 0.79051335 0.79742026\n",
            " 0.81461851 0.84487071 0.86338129 0.86662755 0.86932124 0.87298189\n",
            " 0.8375494  0.86124016 0.89618912 0.89252847 0.88555242 0.87229116\n",
            " 0.89632729 0.93680169 0.96373871 0.96014709 0.99392188 0.9682973\n",
            " 0.95855853 0.99288589 0.94426117 0.93652546 0.92692486 0.94930329\n",
            " 0.96760657 0.97202699 1.         0.99281675 0.99343845 0.98528824\n",
            " 0.98093696 1.09138894 1.10932577 1.13551915 1.16562462 1.19769871\n",
            " 1.23092604 1.2649647  1.29965508 1.33490777 1.37065315 1.40682673\n",
            " 1.44335938 1.48017609 1.51719213 1.55431485 1.59144342 1.62847304\n",
            " 1.66529143 1.70178628 1.73784411 1.77335358 1.80820668 1.84230113\n",
            " 1.87554276 1.9078449  1.9391309  1.96933603]\n",
            "27 day output [[1.9984051]]\n",
            "28 day input [0.74513488 0.7618497  0.76861845 0.76924004 0.75853431 0.73463645\n",
            " 0.7409908  0.73180459 0.7397475  0.71550428 0.7291109  0.73525805\n",
            " 0.74416792 0.74147423 0.74085263 0.73187362 0.72772954 0.74741418\n",
            " 0.75487365 0.76668452 0.78194874 0.78540219 0.78692172 0.78146531\n",
            " 0.78111994 0.7858167  0.78257044 0.80826416 0.78913198 0.7833302\n",
            " 0.79065151 0.80080468 0.79714403 0.79935418 0.7935524  0.79610793\n",
            " 0.77614696 0.77580159 0.79044431 0.79051335 0.79742026 0.81461851\n",
            " 0.84487071 0.86338129 0.86662755 0.86932124 0.87298189 0.8375494\n",
            " 0.86124016 0.89618912 0.89252847 0.88555242 0.87229116 0.89632729\n",
            " 0.93680169 0.96373871 0.96014709 0.99392188 0.9682973  0.95855853\n",
            " 0.99288589 0.94426117 0.93652546 0.92692486 0.94930329 0.96760657\n",
            " 0.97202699 1.         0.99281675 0.99343845 0.98528824 0.98093696\n",
            " 1.09138894 1.10932577 1.13551915 1.16562462 1.19769871 1.23092604\n",
            " 1.2649647  1.29965508 1.33490777 1.37065315 1.40682673 1.44335938\n",
            " 1.48017609 1.51719213 1.55431485 1.59144342 1.62847304 1.66529143\n",
            " 1.70178628 1.73784411 1.77335358 1.80820668 1.84230113 1.87554276\n",
            " 1.9078449  1.9391309  1.96933603 1.9984051 ]\n",
            "28 day output [[2.0262957]]\n",
            "29 day input [0.7618497  0.76861845 0.76924004 0.75853431 0.73463645 0.7409908\n",
            " 0.73180459 0.7397475  0.71550428 0.7291109  0.73525805 0.74416792\n",
            " 0.74147423 0.74085263 0.73187362 0.72772954 0.74741418 0.75487365\n",
            " 0.76668452 0.78194874 0.78540219 0.78692172 0.78146531 0.78111994\n",
            " 0.7858167  0.78257044 0.80826416 0.78913198 0.7833302  0.79065151\n",
            " 0.80080468 0.79714403 0.79935418 0.7935524  0.79610793 0.77614696\n",
            " 0.77580159 0.79044431 0.79051335 0.79742026 0.81461851 0.84487071\n",
            " 0.86338129 0.86662755 0.86932124 0.87298189 0.8375494  0.86124016\n",
            " 0.89618912 0.89252847 0.88555242 0.87229116 0.89632729 0.93680169\n",
            " 0.96373871 0.96014709 0.99392188 0.9682973  0.95855853 0.99288589\n",
            " 0.94426117 0.93652546 0.92692486 0.94930329 0.96760657 0.97202699\n",
            " 1.         0.99281675 0.99343845 0.98528824 0.98093696 1.09138894\n",
            " 1.10932577 1.13551915 1.16562462 1.19769871 1.23092604 1.2649647\n",
            " 1.29965508 1.33490777 1.37065315 1.40682673 1.44335938 1.48017609\n",
            " 1.51719213 1.55431485 1.59144342 1.62847304 1.66529143 1.70178628\n",
            " 1.73784411 1.77335358 1.80820668 1.84230113 1.87554276 1.9078449\n",
            " 1.9391309  1.96933603 1.9984051  2.02629566]\n",
            "29 day output [[2.0529757]]\n",
            "[[1.0913889408111572], [1.1093257665634155], [1.1355191469192505], [1.1656246185302734], [1.197698712348938], [1.2309260368347168], [1.2649646997451782], [1.2996550798416138], [1.3349077701568604], [1.3706531524658203], [1.4068267345428467], [1.443359375], [1.4801760911941528], [1.5171921253204346], [1.5543148517608643], [1.591443419456482], [1.6284730434417725], [1.665291428565979], [1.7017862796783447], [1.7378441095352173], [1.7733535766601562], [1.8082066774368286], [1.8423011302947998], [1.8755427598953247], [1.9078449010849], [1.9391309022903442], [1.9693360328674316], [1.9984050989151], [2.0262956619262695], [2.052975654602051]]\n"
          ]
        }
      ]
    },
    {
      "cell_type": "code",
      "source": [
        "day_new=np.arange(1,101)\n",
        "day_pred=np.arange(101,131)"
      ],
      "metadata": {
        "id": "Su-sTok-7U-b"
      },
      "execution_count": null,
      "outputs": []
    },
    {
      "cell_type": "code",
      "source": [
        "len(df1)"
      ],
      "metadata": {
        "colab": {
          "base_uri": "https://localhost:8080/"
        },
        "id": "HRyAvc9x8WZC",
        "outputId": "ba9a0af3-bf5f-413c-f275-6e6f78480d21"
      },
      "execution_count": null,
      "outputs": [
        {
          "output_type": "execute_result",
          "data": {
            "text/plain": [
              "1008"
            ]
          },
          "metadata": {},
          "execution_count": 28
        }
      ]
    },
    {
      "cell_type": "code",
      "source": [
        "plt.plot(day_new,scaler.inverse_transform(df1[908:]))\n",
        "plt.plot(day_pred,scaler.inverse_transform(lst_output))"
      ],
      "metadata": {
        "colab": {
          "base_uri": "https://localhost:8080/",
          "height": 448
        },
        "id": "f3UlJGW-8ZXp",
        "outputId": "5b43f382-d5e6-4205-e57b-ad2854e180f1"
      },
      "execution_count": null,
      "outputs": [
        {
          "output_type": "execute_result",
          "data": {
            "text/plain": [
              "[<matplotlib.lines.Line2D at 0x7d754880f5e0>]"
            ]
          },
          "metadata": {},
          "execution_count": 30
        },
        {
          "output_type": "display_data",
          "data": {
            "text/plain": [
              "<Figure size 640x480 with 1 Axes>"
            ],
            "image/png": "[encoded data removed]"
          },
          "metadata": {}
        }
      ]
    },
    {
      "cell_type": "code",
      "source": [
        "df3=df1.tolist()\n",
        "df3.extend(lst_output)\n",
        "plt.plot(df3[900:])"
      ],
      "metadata": {
        "colab": {
          "base_uri": "https://localhost:8080/",
          "height": 448
        },
        "id": "cAQ4tLab8gZo",
        "outputId": "8dbd5901-5776-43c4-b4d8-0b246038aa5a"
      },
      "execution_count": null,
      "outputs": [
        {
          "output_type": "execute_result",
          "data": {
            "text/plain": [
              "[<matplotlib.lines.Line2D at 0x7d75488b93f0>]"
            ]
          },
          "metadata": {},
          "execution_count": 31
        },
        {
          "output_type": "display_data",
          "data": {
            "text/plain": [
              "<Figure size 640x480 with 1 Axes>"
            ],
            "image/png": "[encoded data removed]"
          },
          "metadata": {}
        }
      ]
    },
    {
      "cell_type": "code",
      "source": [
        "df3=scaler.inverse_transform(df3).tolist()"
      ],
      "metadata": {
        "id": "_lLiY9Md8qOp"
      },
      "execution_count": null,
      "outputs": []
    },
    {
      "cell_type": "code",
      "source": [
        "plt.plot(df3)"
      ],
      "metadata": {
        "id": "1bG31yqq8zh6",
        "outputId": "b45b4f26-f450-4684-b941-c6f73886b6df",
        "colab": {
          "base_uri": "https://localhost:8080/",
          "height": 448
        }
      },
      "execution_count": null,
      "outputs": [
        {
          "output_type": "execute_result",
          "data": {
            "text/plain": [
              "[<matplotlib.lines.Line2D at 0x7d754932dc30>]"
            ]
          },
          "metadata": {},
          "execution_count": 33
        },
        {
          "output_type": "display_data",
          "data": {
            "text/plain": [
              "<Figure size 640x480 with 1 Axes>"
            ],
            "image/png": "[encoded data removed]"
          },
          "metadata": {}
        }
      ]
    },
    {
      "cell_type": "code",
      "source": [],
      "metadata": {
        "id": "4RH9iqtj816c"
      },
      "execution_count": null,
      "outputs": []
    }
  ]
}